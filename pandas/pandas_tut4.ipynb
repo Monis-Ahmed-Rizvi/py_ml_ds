{
 "cells": [
  {
   "cell_type": "markdown",
   "id": "3d6abd46",
   "metadata": {},
   "source": [
    "# Multi index and index hierarchy"
   ]
  },
  {
   "cell_type": "code",
   "execution_count": 6,
   "id": "1ae9dfa3",
   "metadata": {},
   "outputs": [],
   "source": [
    "import pandas as pd\n",
    "import numpy as np"
   ]
  },
  {
   "cell_type": "code",
   "execution_count": 38,
   "id": "9a6a85d9",
   "metadata": {},
   "outputs": [
    {
     "name": "stdout",
     "output_type": "stream",
     "text": [
      "['G1', 'G1', 'G1', 'G2', 'G2', 'G2', 'G3', 'G3', 'G3']\n"
     ]
    }
   ],
   "source": [
    "outside = 'G1 G1 G1 G2 G2 G2 G3 G3 G3'.split()\n",
    "inside = ['a','b','c','a','b','c','a','b','c']\n",
    "print(outside)\n",
    "# Zipping together \n",
    "\n",
    "tup_list = list(zip(outside,inside))\n",
    "f_ind = pd.MultiIndex.from_tuples(tup_list)"
   ]
  },
  {
   "cell_type": "code",
   "execution_count": 60,
   "id": "c1896860",
   "metadata": {},
   "outputs": [],
   "source": [
    "# genrated structure \n",
    "f_ind\n",
    "# filling values in  the structure\n",
    "df = pd.DataFrame(np.random.randn(9,4),index=f_ind,columns=[1,2,3,4])"
   ]
  },
  {
   "cell_type": "code",
   "execution_count": 61,
   "id": "4c8abd57",
   "metadata": {},
   "outputs": [
    {
     "data": {
      "text/html": [
       "<div>\n",
       "<style scoped>\n",
       "    .dataframe tbody tr th:only-of-type {\n",
       "        vertical-align: middle;\n",
       "    }\n",
       "\n",
       "    .dataframe tbody tr th {\n",
       "        vertical-align: top;\n",
       "    }\n",
       "\n",
       "    .dataframe thead th {\n",
       "        text-align: right;\n",
       "    }\n",
       "</style>\n",
       "<table border=\"1\" class=\"dataframe\">\n",
       "  <thead>\n",
       "    <tr style=\"text-align: right;\">\n",
       "      <th></th>\n",
       "      <th></th>\n",
       "      <th>1</th>\n",
       "      <th>2</th>\n",
       "      <th>3</th>\n",
       "      <th>4</th>\n",
       "    </tr>\n",
       "  </thead>\n",
       "  <tbody>\n",
       "    <tr>\n",
       "      <th rowspan=\"3\" valign=\"top\">G1</th>\n",
       "      <th>a</th>\n",
       "      <td>-2.403373</td>\n",
       "      <td>1.695150</td>\n",
       "      <td>-2.475466</td>\n",
       "      <td>-0.125492</td>\n",
       "    </tr>\n",
       "    <tr>\n",
       "      <th>b</th>\n",
       "      <td>0.991489</td>\n",
       "      <td>1.379782</td>\n",
       "      <td>-0.335970</td>\n",
       "      <td>0.054285</td>\n",
       "    </tr>\n",
       "    <tr>\n",
       "      <th>c</th>\n",
       "      <td>0.792117</td>\n",
       "      <td>-1.212467</td>\n",
       "      <td>-1.207975</td>\n",
       "      <td>1.064893</td>\n",
       "    </tr>\n",
       "    <tr>\n",
       "      <th rowspan=\"3\" valign=\"top\">G2</th>\n",
       "      <th>a</th>\n",
       "      <td>0.067615</td>\n",
       "      <td>1.520900</td>\n",
       "      <td>-0.722035</td>\n",
       "      <td>-1.809429</td>\n",
       "    </tr>\n",
       "    <tr>\n",
       "      <th>b</th>\n",
       "      <td>-1.553418</td>\n",
       "      <td>0.594547</td>\n",
       "      <td>-0.085137</td>\n",
       "      <td>-1.001023</td>\n",
       "    </tr>\n",
       "    <tr>\n",
       "      <th>c</th>\n",
       "      <td>0.571928</td>\n",
       "      <td>0.636945</td>\n",
       "      <td>-1.125320</td>\n",
       "      <td>-0.367841</td>\n",
       "    </tr>\n",
       "    <tr>\n",
       "      <th rowspan=\"3\" valign=\"top\">G3</th>\n",
       "      <th>a</th>\n",
       "      <td>-1.180942</td>\n",
       "      <td>0.924708</td>\n",
       "      <td>-1.952063</td>\n",
       "      <td>1.250761</td>\n",
       "    </tr>\n",
       "    <tr>\n",
       "      <th>b</th>\n",
       "      <td>-0.226357</td>\n",
       "      <td>-1.329070</td>\n",
       "      <td>-0.641143</td>\n",
       "      <td>-0.222612</td>\n",
       "    </tr>\n",
       "    <tr>\n",
       "      <th>c</th>\n",
       "      <td>-1.217087</td>\n",
       "      <td>-0.086460</td>\n",
       "      <td>-1.989569</td>\n",
       "      <td>0.866716</td>\n",
       "    </tr>\n",
       "  </tbody>\n",
       "</table>\n",
       "</div>"
      ],
      "text/plain": [
       "             1         2         3         4\n",
       "G1 a -2.403373  1.695150 -2.475466 -0.125492\n",
       "   b  0.991489  1.379782 -0.335970  0.054285\n",
       "   c  0.792117 -1.212467 -1.207975  1.064893\n",
       "G2 a  0.067615  1.520900 -0.722035 -1.809429\n",
       "   b -1.553418  0.594547 -0.085137 -1.001023\n",
       "   c  0.571928  0.636945 -1.125320 -0.367841\n",
       "G3 a -1.180942  0.924708 -1.952063  1.250761\n",
       "   b -0.226357 -1.329070 -0.641143 -0.222612\n",
       "   c -1.217087 -0.086460 -1.989569  0.866716"
      ]
     },
     "execution_count": 61,
     "metadata": {},
     "output_type": "execute_result"
    }
   ],
   "source": [
    "df"
   ]
  },
  {
   "cell_type": "code",
   "execution_count": 50,
   "id": "815452af",
   "metadata": {},
   "outputs": [],
   "source": [
    "# creating a animal chart\n",
    "\n",
    "animal = ['lion','lion','lion','elephant','elephant','elephant','owl','owl','owl']\n",
    "power = ['attack','speed','focus','attack','speed','focus','attack','speed','focus']\n",
    "tup = list(zip(animal,power))"
   ]
  },
  {
   "cell_type": "code",
   "execution_count": 54,
   "id": "390ccfb7",
   "metadata": {},
   "outputs": [
    {
     "data": {
      "text/plain": [
       "MultiIndex([(    'lion', 'attack'),\n",
       "            (    'lion',  'speed'),\n",
       "            (    'lion',  'focus'),\n",
       "            ('elephant', 'attack'),\n",
       "            ('elephant',  'speed'),\n",
       "            ('elephant',  'focus'),\n",
       "            (     'owl', 'attack'),\n",
       "            (     'owl',  'speed'),\n",
       "            (     'owl',  'focus')],\n",
       "           )"
      ]
     },
     "execution_count": 54,
     "metadata": {},
     "output_type": "execute_result"
    }
   ],
   "source": [
    "# creating the structure \n",
    "stut = pd.MultiIndex.from_tuples(tup)\n"
   ]
  },
  {
   "cell_type": "code",
   "execution_count": 68,
   "id": "a365a3d4",
   "metadata": {},
   "outputs": [],
   "source": [
    "# populating with data \n",
    "df_ani = pd.DataFrame(np.random.rand(9,4),index=stut,columns=['Morning','afternoon','evening','night'])"
   ]
  },
  {
   "cell_type": "code",
   "execution_count": 75,
   "id": "11b47452",
   "metadata": {},
   "outputs": [
    {
     "data": {
      "text/html": [
       "<div>\n",
       "<style scoped>\n",
       "    .dataframe tbody tr th:only-of-type {\n",
       "        vertical-align: middle;\n",
       "    }\n",
       "\n",
       "    .dataframe tbody tr th {\n",
       "        vertical-align: top;\n",
       "    }\n",
       "\n",
       "    .dataframe thead th {\n",
       "        text-align: right;\n",
       "    }\n",
       "</style>\n",
       "<table border=\"1\" class=\"dataframe\">\n",
       "  <thead>\n",
       "    <tr style=\"text-align: right;\">\n",
       "      <th></th>\n",
       "      <th></th>\n",
       "      <th>Morning</th>\n",
       "      <th>afternoon</th>\n",
       "      <th>evening</th>\n",
       "      <th>night</th>\n",
       "    </tr>\n",
       "  </thead>\n",
       "  <tbody>\n",
       "    <tr>\n",
       "      <th rowspan=\"3\" valign=\"top\">lion</th>\n",
       "      <th>attack</th>\n",
       "      <td>0.810750</td>\n",
       "      <td>0.436313</td>\n",
       "      <td>0.819266</td>\n",
       "      <td>0.033518</td>\n",
       "    </tr>\n",
       "    <tr>\n",
       "      <th>speed</th>\n",
       "      <td>0.640416</td>\n",
       "      <td>0.228246</td>\n",
       "      <td>0.030665</td>\n",
       "      <td>0.427052</td>\n",
       "    </tr>\n",
       "    <tr>\n",
       "      <th>focus</th>\n",
       "      <td>0.957336</td>\n",
       "      <td>0.267345</td>\n",
       "      <td>0.117181</td>\n",
       "      <td>0.706286</td>\n",
       "    </tr>\n",
       "    <tr>\n",
       "      <th rowspan=\"3\" valign=\"top\">elephant</th>\n",
       "      <th>attack</th>\n",
       "      <td>0.486574</td>\n",
       "      <td>0.323009</td>\n",
       "      <td>0.784993</td>\n",
       "      <td>0.958742</td>\n",
       "    </tr>\n",
       "    <tr>\n",
       "      <th>speed</th>\n",
       "      <td>0.793924</td>\n",
       "      <td>0.906495</td>\n",
       "      <td>0.801121</td>\n",
       "      <td>0.211364</td>\n",
       "    </tr>\n",
       "    <tr>\n",
       "      <th>focus</th>\n",
       "      <td>0.628222</td>\n",
       "      <td>0.019478</td>\n",
       "      <td>0.519124</td>\n",
       "      <td>0.837787</td>\n",
       "    </tr>\n",
       "    <tr>\n",
       "      <th rowspan=\"3\" valign=\"top\">owl</th>\n",
       "      <th>attack</th>\n",
       "      <td>0.214934</td>\n",
       "      <td>0.441973</td>\n",
       "      <td>0.340106</td>\n",
       "      <td>0.834701</td>\n",
       "    </tr>\n",
       "    <tr>\n",
       "      <th>speed</th>\n",
       "      <td>0.983453</td>\n",
       "      <td>0.477667</td>\n",
       "      <td>0.505296</td>\n",
       "      <td>0.211917</td>\n",
       "    </tr>\n",
       "    <tr>\n",
       "      <th>focus</th>\n",
       "      <td>0.163687</td>\n",
       "      <td>0.953895</td>\n",
       "      <td>0.107203</td>\n",
       "      <td>0.725442</td>\n",
       "    </tr>\n",
       "  </tbody>\n",
       "</table>\n",
       "</div>"
      ],
      "text/plain": [
       "                  Morning  afternoon   evening     night\n",
       "lion     attack  0.810750   0.436313  0.819266  0.033518\n",
       "         speed   0.640416   0.228246  0.030665  0.427052\n",
       "         focus   0.957336   0.267345  0.117181  0.706286\n",
       "elephant attack  0.486574   0.323009  0.784993  0.958742\n",
       "         speed   0.793924   0.906495  0.801121  0.211364\n",
       "         focus   0.628222   0.019478  0.519124  0.837787\n",
       "owl      attack  0.214934   0.441973  0.340106  0.834701\n",
       "         speed   0.983453   0.477667  0.505296  0.211917\n",
       "         focus   0.163687   0.953895  0.107203  0.725442"
      ]
     },
     "execution_count": 75,
     "metadata": {},
     "output_type": "execute_result"
    }
   ],
   "source": [
    "df_ani"
   ]
  },
  {
   "cell_type": "markdown",
   "id": "0ba9e292",
   "metadata": {},
   "source": [
    "# getting a specific value using the outer index  "
   ]
  },
  {
   "cell_type": "code",
   "execution_count": 83,
   "id": "d7fc0aea",
   "metadata": {},
   "outputs": [
    {
     "data": {
      "text/plain": [
       "0.810750268735232"
      ]
     },
     "execution_count": 83,
     "metadata": {},
     "output_type": "execute_result"
    }
   ],
   "source": [
    "# have to use loc \n",
    "# getting outer values \n",
    "\n",
    "df_ani.loc['lion']\n",
    "\n",
    "# getting inner values \n",
    "\n",
    "df_ani.loc['lion'].loc['attack'].loc['Morning'] "
   ]
  },
  {
   "cell_type": "markdown",
   "id": "283524ef",
   "metadata": {},
   "source": [
    "# setting names "
   ]
  },
  {
   "cell_type": "code",
   "execution_count": 89,
   "id": "3bf15d67",
   "metadata": {},
   "outputs": [
    {
     "data": {
      "text/plain": [
       "FrozenList([None, None])"
      ]
     },
     "execution_count": 89,
     "metadata": {},
     "output_type": "execute_result"
    }
   ],
   "source": [
    "df_ani.index.names\n"
   ]
  },
  {
   "cell_type": "code",
   "execution_count": 90,
   "id": "ecc4a95e",
   "metadata": {},
   "outputs": [],
   "source": [
    "df_ani.index.names = ['animal','ability']"
   ]
  },
  {
   "cell_type": "code",
   "execution_count": 91,
   "id": "3f13f686",
   "metadata": {},
   "outputs": [
    {
     "data": {
      "text/html": [
       "<div>\n",
       "<style scoped>\n",
       "    .dataframe tbody tr th:only-of-type {\n",
       "        vertical-align: middle;\n",
       "    }\n",
       "\n",
       "    .dataframe tbody tr th {\n",
       "        vertical-align: top;\n",
       "    }\n",
       "\n",
       "    .dataframe thead th {\n",
       "        text-align: right;\n",
       "    }\n",
       "</style>\n",
       "<table border=\"1\" class=\"dataframe\">\n",
       "  <thead>\n",
       "    <tr style=\"text-align: right;\">\n",
       "      <th></th>\n",
       "      <th></th>\n",
       "      <th>Morning</th>\n",
       "      <th>afternoon</th>\n",
       "      <th>evening</th>\n",
       "      <th>night</th>\n",
       "    </tr>\n",
       "    <tr>\n",
       "      <th>animal</th>\n",
       "      <th>ability</th>\n",
       "      <th></th>\n",
       "      <th></th>\n",
       "      <th></th>\n",
       "      <th></th>\n",
       "    </tr>\n",
       "  </thead>\n",
       "  <tbody>\n",
       "    <tr>\n",
       "      <th rowspan=\"3\" valign=\"top\">lion</th>\n",
       "      <th>attack</th>\n",
       "      <td>0.810750</td>\n",
       "      <td>0.436313</td>\n",
       "      <td>0.819266</td>\n",
       "      <td>0.033518</td>\n",
       "    </tr>\n",
       "    <tr>\n",
       "      <th>speed</th>\n",
       "      <td>0.640416</td>\n",
       "      <td>0.228246</td>\n",
       "      <td>0.030665</td>\n",
       "      <td>0.427052</td>\n",
       "    </tr>\n",
       "    <tr>\n",
       "      <th>focus</th>\n",
       "      <td>0.957336</td>\n",
       "      <td>0.267345</td>\n",
       "      <td>0.117181</td>\n",
       "      <td>0.706286</td>\n",
       "    </tr>\n",
       "    <tr>\n",
       "      <th rowspan=\"3\" valign=\"top\">elephant</th>\n",
       "      <th>attack</th>\n",
       "      <td>0.486574</td>\n",
       "      <td>0.323009</td>\n",
       "      <td>0.784993</td>\n",
       "      <td>0.958742</td>\n",
       "    </tr>\n",
       "    <tr>\n",
       "      <th>speed</th>\n",
       "      <td>0.793924</td>\n",
       "      <td>0.906495</td>\n",
       "      <td>0.801121</td>\n",
       "      <td>0.211364</td>\n",
       "    </tr>\n",
       "    <tr>\n",
       "      <th>focus</th>\n",
       "      <td>0.628222</td>\n",
       "      <td>0.019478</td>\n",
       "      <td>0.519124</td>\n",
       "      <td>0.837787</td>\n",
       "    </tr>\n",
       "    <tr>\n",
       "      <th rowspan=\"3\" valign=\"top\">owl</th>\n",
       "      <th>attack</th>\n",
       "      <td>0.214934</td>\n",
       "      <td>0.441973</td>\n",
       "      <td>0.340106</td>\n",
       "      <td>0.834701</td>\n",
       "    </tr>\n",
       "    <tr>\n",
       "      <th>speed</th>\n",
       "      <td>0.983453</td>\n",
       "      <td>0.477667</td>\n",
       "      <td>0.505296</td>\n",
       "      <td>0.211917</td>\n",
       "    </tr>\n",
       "    <tr>\n",
       "      <th>focus</th>\n",
       "      <td>0.163687</td>\n",
       "      <td>0.953895</td>\n",
       "      <td>0.107203</td>\n",
       "      <td>0.725442</td>\n",
       "    </tr>\n",
       "  </tbody>\n",
       "</table>\n",
       "</div>"
      ],
      "text/plain": [
       "                   Morning  afternoon   evening     night\n",
       "animal   ability                                         \n",
       "lion     attack   0.810750   0.436313  0.819266  0.033518\n",
       "         speed    0.640416   0.228246  0.030665  0.427052\n",
       "         focus    0.957336   0.267345  0.117181  0.706286\n",
       "elephant attack   0.486574   0.323009  0.784993  0.958742\n",
       "         speed    0.793924   0.906495  0.801121  0.211364\n",
       "         focus    0.628222   0.019478  0.519124  0.837787\n",
       "owl      attack   0.214934   0.441973  0.340106  0.834701\n",
       "         speed    0.983453   0.477667  0.505296  0.211917\n",
       "         focus    0.163687   0.953895  0.107203  0.725442"
      ]
     },
     "execution_count": 91,
     "metadata": {},
     "output_type": "execute_result"
    }
   ],
   "source": [
    "df_ani"
   ]
  },
  {
   "cell_type": "markdown",
   "id": "7cac7086",
   "metadata": {},
   "source": [
    "# using cross section to access specific value "
   ]
  },
  {
   "cell_type": "code",
   "execution_count": 92,
   "id": "289d8aaa",
   "metadata": {},
   "outputs": [
    {
     "data": {
      "text/html": [
       "<div>\n",
       "<style scoped>\n",
       "    .dataframe tbody tr th:only-of-type {\n",
       "        vertical-align: middle;\n",
       "    }\n",
       "\n",
       "    .dataframe tbody tr th {\n",
       "        vertical-align: top;\n",
       "    }\n",
       "\n",
       "    .dataframe thead th {\n",
       "        text-align: right;\n",
       "    }\n",
       "</style>\n",
       "<table border=\"1\" class=\"dataframe\">\n",
       "  <thead>\n",
       "    <tr style=\"text-align: right;\">\n",
       "      <th></th>\n",
       "      <th>Morning</th>\n",
       "      <th>afternoon</th>\n",
       "      <th>evening</th>\n",
       "      <th>night</th>\n",
       "    </tr>\n",
       "    <tr>\n",
       "      <th>ability</th>\n",
       "      <th></th>\n",
       "      <th></th>\n",
       "      <th></th>\n",
       "      <th></th>\n",
       "    </tr>\n",
       "  </thead>\n",
       "  <tbody>\n",
       "    <tr>\n",
       "      <th>attack</th>\n",
       "      <td>0.810750</td>\n",
       "      <td>0.436313</td>\n",
       "      <td>0.819266</td>\n",
       "      <td>0.033518</td>\n",
       "    </tr>\n",
       "    <tr>\n",
       "      <th>speed</th>\n",
       "      <td>0.640416</td>\n",
       "      <td>0.228246</td>\n",
       "      <td>0.030665</td>\n",
       "      <td>0.427052</td>\n",
       "    </tr>\n",
       "    <tr>\n",
       "      <th>focus</th>\n",
       "      <td>0.957336</td>\n",
       "      <td>0.267345</td>\n",
       "      <td>0.117181</td>\n",
       "      <td>0.706286</td>\n",
       "    </tr>\n",
       "  </tbody>\n",
       "</table>\n",
       "</div>"
      ],
      "text/plain": [
       "          Morning  afternoon   evening     night\n",
       "ability                                         \n",
       "attack   0.810750   0.436313  0.819266  0.033518\n",
       "speed    0.640416   0.228246  0.030665  0.427052\n",
       "focus    0.957336   0.267345  0.117181  0.706286"
      ]
     },
     "execution_count": 92,
     "metadata": {},
     "output_type": "execute_result"
    }
   ],
   "source": [
    "df_ani.xs('lion')"
   ]
  },
  {
   "cell_type": "code",
   "execution_count": 94,
   "id": "93c0b2bd",
   "metadata": {},
   "outputs": [
    {
     "data": {
      "text/plain": [
       "Morning      0.640416\n",
       "afternoon    0.228246\n",
       "evening      0.030665\n",
       "night        0.427052\n",
       "Name: (lion, speed), dtype: float64"
      ]
     },
     "execution_count": 94,
     "metadata": {},
     "output_type": "execute_result"
    }
   ],
   "source": [
    "df_ani.xs(('lion','speed'))"
   ]
  },
  {
   "cell_type": "code",
   "execution_count": 96,
   "id": "7fa00dd6",
   "metadata": {},
   "outputs": [
    {
     "data": {
      "text/html": [
       "<div>\n",
       "<style scoped>\n",
       "    .dataframe tbody tr th:only-of-type {\n",
       "        vertical-align: middle;\n",
       "    }\n",
       "\n",
       "    .dataframe tbody tr th {\n",
       "        vertical-align: top;\n",
       "    }\n",
       "\n",
       "    .dataframe thead th {\n",
       "        text-align: right;\n",
       "    }\n",
       "</style>\n",
       "<table border=\"1\" class=\"dataframe\">\n",
       "  <thead>\n",
       "    <tr style=\"text-align: right;\">\n",
       "      <th></th>\n",
       "      <th>Morning</th>\n",
       "      <th>afternoon</th>\n",
       "      <th>evening</th>\n",
       "      <th>night</th>\n",
       "    </tr>\n",
       "    <tr>\n",
       "      <th>animal</th>\n",
       "      <th></th>\n",
       "      <th></th>\n",
       "      <th></th>\n",
       "      <th></th>\n",
       "    </tr>\n",
       "  </thead>\n",
       "  <tbody>\n",
       "    <tr>\n",
       "      <th>lion</th>\n",
       "      <td>0.957336</td>\n",
       "      <td>0.267345</td>\n",
       "      <td>0.117181</td>\n",
       "      <td>0.706286</td>\n",
       "    </tr>\n",
       "    <tr>\n",
       "      <th>elephant</th>\n",
       "      <td>0.628222</td>\n",
       "      <td>0.019478</td>\n",
       "      <td>0.519124</td>\n",
       "      <td>0.837787</td>\n",
       "    </tr>\n",
       "    <tr>\n",
       "      <th>owl</th>\n",
       "      <td>0.163687</td>\n",
       "      <td>0.953895</td>\n",
       "      <td>0.107203</td>\n",
       "      <td>0.725442</td>\n",
       "    </tr>\n",
       "  </tbody>\n",
       "</table>\n",
       "</div>"
      ],
      "text/plain": [
       "           Morning  afternoon   evening     night\n",
       "animal                                           \n",
       "lion      0.957336   0.267345  0.117181  0.706286\n",
       "elephant  0.628222   0.019478  0.519124  0.837787\n",
       "owl       0.163687   0.953895  0.107203  0.725442"
      ]
     },
     "execution_count": 96,
     "metadata": {},
     "output_type": "execute_result"
    }
   ],
   "source": [
    "# getting a specific attribute for all outer values \n",
    "\n",
    "df_ani.xs('focus',level='ability')"
   ]
  },
  {
   "cell_type": "code",
   "execution_count": null,
   "id": "75136f6a",
   "metadata": {},
   "outputs": [],
   "source": []
  }
 ],
 "metadata": {
  "kernelspec": {
   "display_name": "Python 3 (ipykernel)",
   "language": "python",
   "name": "python3"
  },
  "language_info": {
   "codemirror_mode": {
    "name": "ipython",
    "version": 3
   },
   "file_extension": ".py",
   "mimetype": "text/x-python",
   "name": "python",
   "nbconvert_exporter": "python",
   "pygments_lexer": "ipython3",
   "version": "3.7.13"
  }
 },
 "nbformat": 4,
 "nbformat_minor": 5
}
