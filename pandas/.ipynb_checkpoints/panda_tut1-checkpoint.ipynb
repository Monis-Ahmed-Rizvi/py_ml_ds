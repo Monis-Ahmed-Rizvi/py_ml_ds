{
 "cells": [
  {
   "cell_type": "markdown",
   "id": "924756f1",
   "metadata": {},
   "source": [
    "# pandas tutorial "
   ]
  },
  {
   "cell_type": "code",
   "execution_count": 3,
   "id": "6a0cc84b",
   "metadata": {},
   "outputs": [],
   "source": [
    "import numpy as np\n",
    "import pandas as pd"
   ]
  },
  {
   "cell_type": "markdown",
   "id": "aa3e1a78",
   "metadata": {},
   "source": [
    "## creating pandas series "
   ]
  },
  {
   "cell_type": "code",
   "execution_count": 9,
   "id": "b5409f2f",
   "metadata": {},
   "outputs": [],
   "source": [
    "label = ['a','b','c','d']\n",
    "data = [1,2,3,4]\n",
    "dic = {1:'a',2:'b',3:'c',4:'d'}\n",
    "arr = np.array([10,20,30,40])"
   ]
  },
  {
   "cell_type": "code",
   "execution_count": 18,
   "id": "0fce6421",
   "metadata": {},
   "outputs": [
    {
     "name": "stdout",
     "output_type": "stream",
     "text": [
      "0    1\n",
      "1    2\n",
      "2    3\n",
      "3    4\n",
      "dtype: int64\n",
      "0    a\n",
      "1    b\n",
      "2    c\n",
      "3    d\n",
      "dtype: object\n",
      "a    1\n",
      "b    2\n",
      "c    3\n",
      "d    4\n",
      "dtype: int64\n"
     ]
    },
    {
     "data": {
      "text/plain": [
       "a    10\n",
       "b    20\n",
       "c    30\n",
       "d    40\n",
       "dtype: int32"
      ]
     },
     "execution_count": 18,
     "metadata": {},
     "output_type": "execute_result"
    }
   ],
   "source": [
    "# creating series by passing values \n",
    "\n",
    "# just passing data \n",
    "\n",
    "print(pd.Series(data))\n",
    "print(pd.Series(label))\n",
    "# without specifing \n",
    "\n",
    "print(pd.Series(data,label))\n",
    "\n",
    "# specifing data and index \n",
    "\n",
    "pd.Series(data=data,index=label)\n",
    "\n",
    "# passing a numpy array \n",
    "\n",
    "pd.Series(arr)\n",
    "\n",
    "# passing with a label \n",
    "\n",
    "pd.Series(arr,label)"
   ]
  },
  {
   "cell_type": "code",
   "execution_count": 21,
   "id": "0a5442e4",
   "metadata": {},
   "outputs": [
    {
     "data": {
      "text/plain": [
       "1    a\n",
       "2    b\n",
       "3    c\n",
       "4    d\n",
       "dtype: object"
      ]
     },
     "execution_count": 21,
     "metadata": {},
     "output_type": "execute_result"
    }
   ],
   "source": [
    "# creating a pandas series with a dictionary \n",
    "\n",
    "pd.Series(dic)"
   ]
  },
  {
   "cell_type": "markdown",
   "id": "cacd2f50",
   "metadata": {},
   "source": [
    "## variety of data holding using series "
   ]
  },
  {
   "cell_type": "code",
   "execution_count": 23,
   "id": "f93dd6a3",
   "metadata": {},
   "outputs": [
    {
     "data": {
      "text/plain": [
       "0    a\n",
       "1    b\n",
       "2    c\n",
       "3    d\n",
       "dtype: object"
      ]
     },
     "execution_count": 23,
     "metadata": {},
     "output_type": "execute_result"
    }
   ],
   "source": [
    "pd.Series(label)"
   ]
  },
  {
   "cell_type": "code",
   "execution_count": 25,
   "id": "057b77f1",
   "metadata": {},
   "outputs": [
    {
     "data": {
      "text/plain": [
       "0      <built-in function sum>\n",
       "1      <built-in function len>\n",
       "2               <class 'type'>\n",
       "3    <built-in function print>\n",
       "4      <built-in function max>\n",
       "dtype: object"
      ]
     },
     "execution_count": 25,
     "metadata": {},
     "output_type": "execute_result"
    }
   ],
   "source": [
    "pd.Series([sum,len,type,print,max])"
   ]
  },
  {
   "cell_type": "markdown",
   "id": "dc269664",
   "metadata": {},
   "source": [
    "## Using index to acess data "
   ]
  },
  {
   "cell_type": "code",
   "execution_count": 33,
   "id": "5fafb86c",
   "metadata": {},
   "outputs": [],
   "source": [
    "ser1 = pd.Series([1,2,3,4],index = ['kafka','stuxnet','data infitration','metro city'])"
   ]
  },
  {
   "cell_type": "code",
   "execution_count": 34,
   "id": "08e48bf6",
   "metadata": {},
   "outputs": [],
   "source": [
    "ser2 = pd.Series([1,2,3,4], index = ['wannacry','neptune','paper clip','stingray'])"
   ]
  },
  {
   "cell_type": "code",
   "execution_count": 36,
   "id": "c4d9dcb0",
   "metadata": {},
   "outputs": [
    {
     "name": "stdout",
     "output_type": "stream",
     "text": [
      "kafka               1\n",
      "stuxnet             2\n",
      "data infitration    3\n",
      "metro city          4\n",
      "dtype: int64\n",
      "wannacry      1\n",
      "neptune       2\n",
      "paper clip    3\n",
      "stingray      4\n",
      "dtype: int64\n"
     ]
    }
   ],
   "source": [
    "print(ser1)\n",
    "print(ser2)"
   ]
  },
  {
   "cell_type": "code",
   "execution_count": 37,
   "id": "c06db48f",
   "metadata": {},
   "outputs": [
    {
     "data": {
      "text/plain": [
       "1"
      ]
     },
     "execution_count": 37,
     "metadata": {},
     "output_type": "execute_result"
    }
   ],
   "source": [
    "# acessing data from the series using the index data similar to hash table \n",
    "ser1['kafka']"
   ]
  },
  {
   "cell_type": "code",
   "execution_count": 38,
   "id": "5912b7c2",
   "metadata": {},
   "outputs": [
    {
     "data": {
      "text/plain": [
       "data infitration   NaN\n",
       "kafka              NaN\n",
       "metro city         NaN\n",
       "neptune            NaN\n",
       "paper clip         NaN\n",
       "stingray           NaN\n",
       "stuxnet            NaN\n",
       "wannacry           NaN\n",
       "dtype: float64"
      ]
     },
     "execution_count": 38,
     "metadata": {},
     "output_type": "execute_result"
    }
   ],
   "source": [
    "# adding series \n",
    "# int converted to float to preserve data \n",
    "ser1 + ser2"
   ]
  },
  {
   "cell_type": "code",
   "execution_count": null,
   "id": "99403d24",
   "metadata": {},
   "outputs": [],
   "source": []
  }
 ],
 "metadata": {
  "kernelspec": {
   "display_name": "Python 3 (ipykernel)",
   "language": "python",
   "name": "python3"
  },
  "language_info": {
   "codemirror_mode": {
    "name": "ipython",
    "version": 3
   },
   "file_extension": ".py",
   "mimetype": "text/x-python",
   "name": "python",
   "nbconvert_exporter": "python",
   "pygments_lexer": "ipython3",
   "version": "3.7.13"
  }
 },
 "nbformat": 4,
 "nbformat_minor": 5
}
