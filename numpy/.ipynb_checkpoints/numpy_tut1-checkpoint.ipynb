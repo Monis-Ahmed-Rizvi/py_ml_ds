{
 "cells": [
  {
   "cell_type": "markdown",
   "id": "6307bfaa",
   "metadata": {},
   "source": [
    "# numpy  beginner tutorials"
   ]
  },
  {
   "cell_type": "code",
   "execution_count": 1,
   "id": "6afdfdcf",
   "metadata": {},
   "outputs": [],
   "source": [
    "import numpy as np "
   ]
  },
  {
   "cell_type": "code",
   "execution_count": 11,
   "id": "e663ec1a",
   "metadata": {},
   "outputs": [
    {
     "data": {
      "text/plain": [
       "array([[ 1,  3,  5],\n",
       "       [ 7,  9, 11],\n",
       "       [13, 15, 17]])"
      ]
     },
     "execution_count": 11,
     "metadata": {},
     "output_type": "execute_result"
    }
   ],
   "source": [
    "# converting normal list to a numpy list \n",
    "# 1D array to 1D numpy array\n",
    "li = [2,4,6,8,10,12]\n",
    "np.array(li)\n",
    "\n",
    "# 2D array to 2D numpy array\n",
    "\n",
    "li_2d = [[1,3,5],[7,9,11],[13,15,17]]\n",
    "np.array(li_2d)"
   ]
  },
  {
   "cell_type": "code",
   "execution_count": 14,
   "id": "027652ed",
   "metadata": {},
   "outputs": [
    {
     "data": {
      "text/plain": [
       "array([ 0,  5, 10, 15, 20, 25, 30, 35, 40, 45, 50])"
      ]
     },
     "execution_count": 14,
     "metadata": {},
     "output_type": "execute_result"
    }
   ],
   "source": [
    "# genrating array using numpy \n",
    "# 1D array \n",
    "np.arange(0,51,5)"
   ]
  },
  {
   "cell_type": "code",
   "execution_count": 28,
   "id": "0f657ddf",
   "metadata": {},
   "outputs": [
    {
     "data": {
      "text/plain": [
       "array([[0., 0., 0.],\n",
       "       [0., 0., 0.],\n",
       "       [0., 0., 0.]])"
      ]
     },
     "execution_count": 28,
     "metadata": {},
     "output_type": "execute_result"
    }
   ],
   "source": [
    "# genrating 1D array of zeros \n",
    "np.zeros((1,10))\n",
    "\n",
    "# genrating 2D array of zeros \n",
    "np.zeros((3,3))\n",
    "\n"
   ]
  },
  {
   "cell_type": "code",
   "execution_count": 34,
   "id": "ff8de390",
   "metadata": {},
   "outputs": [
    {
     "data": {
      "text/plain": [
       "array([ 0.,  1.,  2.,  3.,  4.,  5.,  6.,  7.,  8.,  9., 10.])"
      ]
     },
     "execution_count": 34,
     "metadata": {},
     "output_type": "execute_result"
    }
   ],
   "source": [
    "# genrating array with specified gap\n",
    "np.linspace(0,10.0,11)"
   ]
  },
  {
   "cell_type": "code",
   "execution_count": 38,
   "id": "4acb2c94",
   "metadata": {},
   "outputs": [
    {
     "data": {
      "text/plain": [
       "array([[1., 0., 0.],\n",
       "       [0., 1., 0.],\n",
       "       [0., 0., 1.]])"
      ]
     },
     "execution_count": 38,
     "metadata": {},
     "output_type": "execute_result"
    }
   ],
   "source": [
    "# genrating a identity matrix\n",
    "# identity matrix are squared so no need to pass both dimensions \n",
    "\n",
    "identity_mat = np.eye(3)\n",
    "identity_mat"
   ]
  },
  {
   "cell_type": "code",
   "execution_count": 43,
   "id": "c686e162",
   "metadata": {},
   "outputs": [
    {
     "name": "stdout",
     "output_type": "stream",
     "text": [
      "[0.10207281 0.33317982 0.86811903 0.06389105 0.22640334]\n"
     ]
    },
    {
     "data": {
      "text/plain": [
       "array([[0.62616797, 0.60408199, 0.75040606],\n",
       "       [0.40708232, 0.12233217, 0.7540167 ],\n",
       "       [0.87342516, 0.4212442 , 0.1265936 ]])"
      ]
     },
     "execution_count": 43,
     "metadata": {},
     "output_type": "execute_result"
    }
   ],
   "source": [
    "# creating a random 1D array\n",
    "print(np.random.rand(5))\n",
    "# creating a random 2D array \n",
    "np.random.rand(3,3)"
   ]
  },
  {
   "cell_type": "code",
   "execution_count": 42,
   "id": "388fedfd",
   "metadata": {},
   "outputs": [
    {
     "name": "stdout",
     "output_type": "stream",
     "text": [
      "[-0.40535458 -0.02067115 -0.28750898  1.52591153 -1.19111773]\n"
     ]
    },
    {
     "data": {
      "text/plain": [
       "array([[ 0.40023386, -0.34664284, -0.41350025],\n",
       "       [ 0.62366774,  0.65666616, -2.73495892],\n",
       "       [-0.70592046, -1.05683313,  0.45856534]])"
      ]
     },
     "execution_count": 42,
     "metadata": {},
     "output_type": "execute_result"
    }
   ],
   "source": [
    "# creating a random 1D array which has gaussian distribution \n",
    "print(np.random.randn(5))\n",
    "# creating a random 2D array which has gaussian distribution \n",
    "np.random.randn(3,3)\n"
   ]
  },
  {
   "cell_type": "code",
   "execution_count": 50,
   "id": "520b3864",
   "metadata": {},
   "outputs": [
    {
     "name": "stdout",
     "output_type": "stream",
     "text": [
      "[36  9 18  6 36 33 44  2 10 19]\n"
     ]
    }
   ],
   "source": [
    "# genrating random integers\n",
    "\n",
    "ran_int = np.random.randint(1,50,10) # -> genrates 10 random integers between 1, 50\n",
    "print(ran_int)\n",
    "\n"
   ]
  },
  {
   "cell_type": "code",
   "execution_count": 54,
   "id": "032054d0",
   "metadata": {},
   "outputs": [
    {
     "name": "stdout",
     "output_type": "stream",
     "text": [
      "[ 0  1  2  3  4  5  6  7  8  9 10 11 12 13 14 15 16 17 18 19 20 21 22 23\n",
      " 24]\n",
      "[11 44 23  0 18 28 17 14 29 48]\n"
     ]
    }
   ],
   "source": [
    "arr = np.arange(25)\n",
    "print(arr)\n",
    "rand_arr = np.random.randint(0,50,10)\n",
    "print(rand_arr)"
   ]
  },
  {
   "cell_type": "code",
   "execution_count": 72,
   "id": "d6706832",
   "metadata": {},
   "outputs": [
    {
     "data": {
      "text/plain": [
       "array([[1, 2, 3],\n",
       "       [4, 5, 6],\n",
       "       [7, 8, 9]])"
      ]
     },
     "execution_count": 72,
     "metadata": {},
     "output_type": "execute_result"
    }
   ],
   "source": [
    "# reshaping an array \n",
    "arr.reshape(5,5)\n",
    "rand_arr.reshape(10,1)\n",
    "\n",
    "# trying with normal array \n",
    "x = [1,2,3,4,5,6,7,8,9]\n",
    "#x.reshape(3,3)\n",
    "x = np.array(x)\n",
    "x.reshape(3,3)"
   ]
  },
  {
   "cell_type": "code",
   "execution_count": 87,
   "id": "9b65d39b",
   "metadata": {},
   "outputs": [
    {
     "name": "stdout",
     "output_type": "stream",
     "text": [
      "2\n",
      "99\n",
      "1\n",
      "19\n",
      "[[43 25 40  8]\n",
      " [25 42 19  8]\n",
      " [ 1 41 26 42]\n",
      " [11 47 30 32]\n",
      " [16 37 48 17]]\n",
      "1\n",
      "48\n",
      "8\n",
      "18\n"
     ]
    }
   ],
   "source": [
    "# finding min and max values from a array or matrix\n",
    "rand_num = np.random.randint(1,100,20)\n",
    "rand_num_shape = np.random.randint(1,50,20) \n",
    "\n",
    "print(rand_num.min())\n",
    "print(rand_num.max())\n",
    "\n",
    "\n",
    "# finding the postion of the largest values \n",
    "\n",
    "print(rand_num.argmin())\n",
    "print(rand_num.argmax())\n",
    "\n",
    "# matrix\n",
    "rand_num_shape = rand_num_shape.reshape(5,4)\n",
    "\n",
    "print(rand_num_shape)\n",
    "\n",
    "print(rand_num_shape.min())\n",
    "print(rand_num_shape.max())\n",
    "\n",
    "print(rand_num_shape.argmin())\n",
    "print(rand_num_shape.argmax())\n",
    "\n",
    "\n"
   ]
  },
  {
   "cell_type": "code",
   "execution_count": 90,
   "id": "3c675153",
   "metadata": {},
   "outputs": [
    {
     "name": "stdout",
     "output_type": "stream",
     "text": [
      "(20,)\n",
      "(5, 4)\n"
     ]
    }
   ],
   "source": [
    "# finding the the spahe of the array / vector \n",
    "print(rand_num.shape) # single / 1D \n",
    "print(rand_num_shape.shape) # 2D array \n"
   ]
  },
  {
   "cell_type": "code",
   "execution_count": 93,
   "id": "6e9a5a0d",
   "metadata": {},
   "outputs": [
    {
     "name": "stdout",
     "output_type": "stream",
     "text": [
      "int32\n",
      "int32\n"
     ]
    }
   ],
   "source": [
    "# finding the datatype contained in the array\n",
    "print(rand_num.dtype)\n",
    "print(rand_num_shape.dtype)\n"
   ]
  },
  {
   "cell_type": "code",
   "execution_count": null,
   "id": "80d78c7b",
   "metadata": {},
   "outputs": [],
   "source": []
  }
 ],
 "metadata": {
  "kernelspec": {
   "display_name": "Python 3 (ipykernel)",
   "language": "python",
   "name": "python3"
  },
  "language_info": {
   "codemirror_mode": {
    "name": "ipython",
    "version": 3
   },
   "file_extension": ".py",
   "mimetype": "text/x-python",
   "name": "python",
   "nbconvert_exporter": "python",
   "pygments_lexer": "ipython3",
   "version": "3.7.13"
  }
 },
 "nbformat": 4,
 "nbformat_minor": 5
}
