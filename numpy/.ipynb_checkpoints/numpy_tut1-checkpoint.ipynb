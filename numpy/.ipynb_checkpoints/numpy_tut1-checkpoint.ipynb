{
 "cells": [
  {
   "cell_type": "markdown",
   "id": "01223dda",
   "metadata": {},
   "source": [
    "# numpy begginer tutorials"
   ]
  },
  {
   "cell_type": "code",
   "execution_count": 1,
   "id": "04803237",
   "metadata": {},
   "outputs": [],
   "source": [
    "import numpy as np "
   ]
  },
  {
   "cell_type": "code",
   "execution_count": 11,
   "id": "aeceb34c",
   "metadata": {},
   "outputs": [
    {
     "data": {
      "text/plain": [
       "array([[ 1,  3,  5],\n",
       "       [ 7,  9, 11],\n",
       "       [13, 15, 17]])"
      ]
     },
     "execution_count": 11,
     "metadata": {},
     "output_type": "execute_result"
    }
   ],
   "source": [
    "# converting normal list to a numpy list \n",
    "# 1D array to 1D numpy array\n",
    "li = [2,4,6,8,10,12]\n",
    "np.array(li)\n",
    "\n",
    "# 2D array to 2D numpy array\n",
    "\n",
    "li_2d = [[1,3,5],[7,9,11],[13,15,17]]\n",
    "np.array(li_2d)"
   ]
  },
  {
   "cell_type": "code",
   "execution_count": 14,
   "id": "5cae16ce",
   "metadata": {},
   "outputs": [
    {
     "data": {
      "text/plain": [
       "array([ 0,  5, 10, 15, 20, 25, 30, 35, 40, 45, 50])"
      ]
     },
     "execution_count": 14,
     "metadata": {},
     "output_type": "execute_result"
    }
   ],
   "source": [
    "# genrating array using numpy \n",
    "# 1D array \n",
    "np.arange(0,51,5)"
   ]
  },
  {
   "cell_type": "code",
   "execution_count": 28,
   "id": "37e8a0bc",
   "metadata": {},
   "outputs": [
    {
     "data": {
      "text/plain": [
       "array([[0., 0., 0.],\n",
       "       [0., 0., 0.],\n",
       "       [0., 0., 0.]])"
      ]
     },
     "execution_count": 28,
     "metadata": {},
     "output_type": "execute_result"
    }
   ],
   "source": [
    "# genrating 1D array of zeros \n",
    "np.zeros((1,10))\n",
    "\n",
    "# genrating 2D array of zeros \n",
    "np.zeros((3,3))\n",
    "\n"
   ]
  },
  {
   "cell_type": "code",
   "execution_count": 34,
   "id": "e154b552",
   "metadata": {},
   "outputs": [
    {
     "data": {
      "text/plain": [
       "array([ 0.,  1.,  2.,  3.,  4.,  5.,  6.,  7.,  8.,  9., 10.])"
      ]
     },
     "execution_count": 34,
     "metadata": {},
     "output_type": "execute_result"
    }
   ],
   "source": [
    "# genrating array with specified gap\n",
    "np.linspace(0,10.0,11)"
   ]
  },
  {
   "cell_type": "code",
   "execution_count": null,
   "id": "f4cc7284",
   "metadata": {},
   "outputs": [],
   "source": []
  }
 ],
 "metadata": {
  "kernelspec": {
   "display_name": "Python 3 (ipykernel)",
   "language": "python",
   "name": "python3"
  },
  "language_info": {
   "codemirror_mode": {
    "name": "ipython",
    "version": 3
   },
   "file_extension": ".py",
   "mimetype": "text/x-python",
   "name": "python",
   "nbconvert_exporter": "python",
   "pygments_lexer": "ipython3",
   "version": "3.7.13"
  }
 },
 "nbformat": 4,
 "nbformat_minor": 5
}
