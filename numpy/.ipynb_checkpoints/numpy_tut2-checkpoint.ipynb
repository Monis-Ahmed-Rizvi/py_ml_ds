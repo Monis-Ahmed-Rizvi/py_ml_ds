{
 "cells": [
  {
   "cell_type": "markdown",
   "id": "d743ba50",
   "metadata": {},
   "source": [
    "# indexing and slicing an numpy array"
   ]
  },
  {
   "cell_type": "code",
   "execution_count": 2,
   "id": "d5f56184",
   "metadata": {},
   "outputs": [],
   "source": [
    "import numpy as np"
   ]
  },
  {
   "cell_type": "code",
   "execution_count": 26,
   "id": "8aaa0fb8",
   "metadata": {},
   "outputs": [
    {
     "data": {
      "text/plain": [
       "array([ 0,  1,  2,  3,  4,  5,  6,  7,  8,  9, 10])"
      ]
     },
     "execution_count": 26,
     "metadata": {},
     "output_type": "execute_result"
    }
   ],
   "source": [
    "arr = np.arange(0,11)\n",
    "arr"
   ]
  },
  {
   "cell_type": "code",
   "execution_count": 29,
   "id": "3e88e787",
   "metadata": {},
   "outputs": [
    {
     "name": "stdout",
     "output_type": "stream",
     "text": [
      "[1 2 3 4]\n",
      "[0 1 2 3 4]\n",
      "[ 5  6  7  8  9 10]\n",
      "[0 1 2 3 4 5 6 7 8 9]\n"
     ]
    }
   ],
   "source": [
    "# sliceing a numpy array \n",
    "print(arr[1:5]) # till the last element but not including the last element \n",
    "print(arr[0:5]) # till the last element but not including the last element \n",
    "\n",
    "\n",
    "print(arr[5:]) # includes the element in the beggining index \n",
    "print(arr[:10])\n",
    "\n"
   ]
  },
  {
   "cell_type": "code",
   "execution_count": 45,
   "id": "56db4c75",
   "metadata": {},
   "outputs": [
    {
     "name": "stdout",
     "output_type": "stream",
     "text": [
      "[10 10 10 10 10 27 27 24  9  1]\n",
      "[27 27 24  9  1]\n"
     ]
    }
   ],
   "source": [
    "# copy array \n",
    "\n",
    "exp_numpy_arr = np.random.randint(0,30,10)\n",
    "exp_numpy_arr\n",
    "\n",
    "exp_arr = [1,2,3,4,5,6,7,8,9]\n",
    "\n",
    "# changing value of a slice \n",
    "# cant be done on a normal array \n",
    "exp_numpy_arr[0:5] = 10\n",
    "print(exp_numpy_arr)\n",
    "\n",
    "# copy of slice of array\n",
    "\n",
    "slice_ex_numpy_arr = exp_numpy_arr[5:10]\n",
    "print(slice_ex_numpy_arr)\n"
   ]
  },
  {
   "cell_type": "code",
   "execution_count": 48,
   "id": "e867150a",
   "metadata": {},
   "outputs": [
    {
     "name": "stdout",
     "output_type": "stream",
     "text": [
      "[27 23 23 23  1]\n",
      "[10 10 10 10 10 27 23 23 23  1]\n"
     ]
    }
   ],
   "source": [
    "# making changes to the slice array\n",
    "slice_ex_numpy_arr[1:4] = 23\n",
    "\n",
    "print(slice_ex_numpy_arr)\n",
    "# changes made on this slice reflectes on the original as well \n",
    "print(exp_numpy_arr)"
   ]
  },
  {
   "cell_type": "code",
   "execution_count": 53,
   "id": "f8fd0904",
   "metadata": {},
   "outputs": [
    {
     "name": "stdout",
     "output_type": "stream",
     "text": [
      "[3 3 3 3 3 3 3 3 3 3]\n",
      "[10 10 10 10 10 27 23 23 23  1]\n"
     ]
    }
   ],
   "source": [
    "# creating a copy of the original array \n",
    "cpy_arr = exp_numpy_arr.copy()\n",
    "# making changes to the copy \n",
    "cpy_arr[0:10] = 3\n",
    "\n",
    "# changes made to the copy does not reflect on the original array \n",
    "\n",
    "print(cpy_arr)\n",
    "print(exp_numpy_arr)\n",
    "\n",
    "\n"
   ]
  },
  {
   "cell_type": "markdown",
   "id": "22b5c0d3",
   "metadata": {},
   "source": [
    "# indexing and slicing of 2D array "
   ]
  },
  {
   "cell_type": "code",
   "execution_count": 59,
   "id": "c046228c",
   "metadata": {},
   "outputs": [],
   "source": [
    "# creating a random 2d array\n",
    "td_arr = np.random.randint(0,30,12)"
   ]
  },
  {
   "cell_type": "code",
   "execution_count": 69,
   "id": "d7e866a1",
   "metadata": {},
   "outputs": [
    {
     "name": "stdout",
     "output_type": "stream",
     "text": [
      "[[20 25  4]\n",
      " [14  9  3]\n",
      " [18 27 29]\n",
      " [12 11 23]]\n"
     ]
    }
   ],
   "source": [
    "#reshaping the 1D array to a 4x3 2D array\n",
    "print(td_arr)\n",
    "td_arr = td_arr.reshape(4,3)"
   ]
  },
  {
   "cell_type": "code",
   "execution_count": 70,
   "id": "db9ec224",
   "metadata": {},
   "outputs": [
    {
     "name": "stdout",
     "output_type": "stream",
     "text": [
      "[14  9  3]\n",
      "23\n",
      "23\n"
     ]
    }
   ],
   "source": [
    "# accesing row or 2D array\n",
    "# for 2D array [Row][cloumn]\n",
    "print(td_arr[1])\n",
    "print(td_arr[3][2])\n",
    "\n",
    "# using the comma method\n",
    "\n",
    "print(td_arr[3,2])\n"
   ]
  },
  {
   "cell_type": "markdown",
   "id": "9a5f7b08",
   "metadata": {},
   "source": [
    "## slicing 2D array "
   ]
  },
  {
   "cell_type": "code",
   "execution_count": 114,
   "id": "74bfc40f",
   "metadata": {},
   "outputs": [
    {
     "data": {
      "text/plain": [
       "array([[20, 25],\n",
       "       [14,  9],\n",
       "       [18, 27],\n",
       "       [12, 11]])"
      ]
     },
     "execution_count": 114,
     "metadata": {},
     "output_type": "execute_result"
    }
   ],
   "source": [
    "td_arr[:4,:2]"
   ]
  },
  {
   "cell_type": "markdown",
   "id": "aa71c87f",
   "metadata": {},
   "source": [
    "# conditional selection"
   ]
  },
  {
   "cell_type": "code",
   "execution_count": 116,
   "id": "bff90767",
   "metadata": {},
   "outputs": [
    {
     "name": "stdout",
     "output_type": "stream",
     "text": [
      "[85 75  9  4 97 51  3 49 83 76]\n"
     ]
    }
   ],
   "source": [
    "arr_sel = np.random.randint(0,100,10)\n",
    "print(arr_sel)"
   ]
  },
  {
   "cell_type": "code",
   "execution_count": 121,
   "id": "f36321ed",
   "metadata": {},
   "outputs": [
    {
     "name": "stdout",
     "output_type": "stream",
     "text": [
      "[False False  True  True False False  True  True False False]\n",
      "[ 9  4  3 49]\n",
      "[ 9  4 51  3 49]\n"
     ]
    }
   ],
   "source": [
    "# filtering or conditional selection\n",
    "\n",
    "# genrating a array of boolean values \n",
    "# based on the given condition\n",
    "bool_li = arr_sel < 50 \n",
    "print(bool_li)\n",
    "\n",
    "# passig the genrated boolean list to the array\n",
    "\n",
    "print(arr_sel[bool_li])\n",
    "\n",
    "# filtering with in the list / array\n",
    "\n",
    "print(arr_sel[arr_sel < 65])\n"
   ]
  },
  {
   "cell_type": "code",
   "execution_count": 122,
   "id": "b5086c43",
   "metadata": {},
   "outputs": [],
   "source": [
    "arr_2d = np.arange(50).reshape(5,10)"
   ]
  },
  {
   "cell_type": "code",
   "execution_count": 123,
   "id": "5ee6c3ca",
   "metadata": {},
   "outputs": [
    {
     "data": {
      "text/plain": [
       "array([[ 0,  1,  2,  3,  4,  5,  6,  7,  8,  9],\n",
       "       [10, 11, 12, 13, 14, 15, 16, 17, 18, 19],\n",
       "       [20, 21, 22, 23, 24, 25, 26, 27, 28, 29],\n",
       "       [30, 31, 32, 33, 34, 35, 36, 37, 38, 39],\n",
       "       [40, 41, 42, 43, 44, 45, 46, 47, 48, 49]])"
      ]
     },
     "execution_count": 123,
     "metadata": {},
     "output_type": "execute_result"
    }
   ],
   "source": [
    "arr_2d"
   ]
  },
  {
   "cell_type": "code",
   "execution_count": 128,
   "id": "6ed4ea6d",
   "metadata": {},
   "outputs": [
    {
     "data": {
      "text/plain": [
       "array([[23, 24]])"
      ]
     },
     "execution_count": 128,
     "metadata": {},
     "output_type": "execute_result"
    }
   ],
   "source": [
    "# grabbing 23 , 24 \n",
    "arr_2d[2:3,3:5]"
   ]
  },
  {
   "cell_type": "code",
   "execution_count": null,
   "id": "c9b04909",
   "metadata": {},
   "outputs": [],
   "source": []
  }
 ],
 "metadata": {
  "kernelspec": {
   "display_name": "Python 3 (ipykernel)",
   "language": "python",
   "name": "python3"
  },
  "language_info": {
   "codemirror_mode": {
    "name": "ipython",
    "version": 3
   },
   "file_extension": ".py",
   "mimetype": "text/x-python",
   "name": "python",
   "nbconvert_exporter": "python",
   "pygments_lexer": "ipython3",
   "version": "3.7.13"
  }
 },
 "nbformat": 4,
 "nbformat_minor": 5
}
