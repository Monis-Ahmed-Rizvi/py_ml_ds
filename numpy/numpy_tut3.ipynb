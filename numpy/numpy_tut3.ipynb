{
 "cells": [
  {
   "cell_type": "markdown",
   "id": "13751ae0",
   "metadata": {},
   "source": [
    "# numpy operations "
   ]
  },
  {
   "cell_type": "markdown",
   "id": "1786089a",
   "metadata": {},
   "source": [
    "## array operations"
   ]
  },
  {
   "cell_type": "code",
   "execution_count": 1,
   "id": "776f19f1",
   "metadata": {},
   "outputs": [],
   "source": [
    "import numpy as np"
   ]
  },
  {
   "cell_type": "code",
   "execution_count": 5,
   "id": "4c3ae716",
   "metadata": {},
   "outputs": [
    {
     "name": "stdout",
     "output_type": "stream",
     "text": [
      "[ 0  1  2  3  4  5  6  7  8  9 10]\n"
     ]
    }
   ],
   "source": [
    "# genrating a numpy array\n",
    "arr = np.arange(0,11)\n",
    "print(arr)"
   ]
  },
  {
   "cell_type": "code",
   "execution_count": 14,
   "id": "d67c9005",
   "metadata": {},
   "outputs": [
    {
     "name": "stdout",
     "output_type": "stream",
     "text": [
      "[ 1  2  3  4  5  6  7  8  9 10 11]\n",
      "[-1  0  1  2  3  4  5  6  7  8  9]\n",
      "[ 0  2  4  6  8 10 12 14 16 18 20]\n",
      "[ 0.  1.  2.  3.  4.  5.  6.  7.  8.  9. 10.]\n"
     ]
    }
   ],
   "source": [
    "#  adding a integer to each item of array \n",
    "\n",
    "print(arr + 1)\n",
    "print(arr - 1)\n",
    "print(arr * 2)\n",
    "#print(arr / 0) # Error triggred \n",
    "print(arr / 1) # Error triggred \n",
    "\n"
   ]
  },
  {
   "cell_type": "code",
   "execution_count": null,
   "id": "aa5cd93b",
   "metadata": {},
   "outputs": [],
   "source": []
  }
 ],
 "metadata": {
  "kernelspec": {
   "display_name": "Python 3 (ipykernel)",
   "language": "python",
   "name": "python3"
  },
  "language_info": {
   "codemirror_mode": {
    "name": "ipython",
    "version": 3
   },
   "file_extension": ".py",
   "mimetype": "text/x-python",
   "name": "python",
   "nbconvert_exporter": "python",
   "pygments_lexer": "ipython3",
   "version": "3.7.13"
  }
 },
 "nbformat": 4,
 "nbformat_minor": 5
}
