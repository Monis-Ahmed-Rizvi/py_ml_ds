{
 "cells": [
  {
   "cell_type": "markdown",
   "id": "3eb65da1",
   "metadata": {},
   "source": [
    "# map() with simple function and list  "
   ]
  },
  {
   "cell_type": "code",
   "execution_count": 40,
   "id": "c2fb33a3",
   "metadata": {},
   "outputs": [
    {
     "name": "stdout",
     "output_type": "stream",
     "text": [
      "<map object at 0x000001D8CA73C448>\n"
     ]
    },
    {
     "data": {
      "text/plain": [
       "[6.0, 9.0, 4.2, 16.8, 23.4]"
      ]
     },
     "execution_count": 40,
     "metadata": {},
     "output_type": "execute_result"
    }
   ],
   "source": [
    "#using map() with a function and list combination \n",
    "\n",
    "def percent_30(num):\n",
    "    \"\"\" funtion to give 30 percent of any value\"\"\"\n",
    "    return num * 30/100\n",
    "\n",
    "percent_30(90)\n",
    "find_30_perc = [20,30,14,56,78] # list of value for which 30 percent is needed to be found \n",
    "print(map(percent_30,find_30_perc)) # instead of finding 30 percent for each individual value and pass it one by one using for loop map does it all at ones\n",
    "res_30 = list(map(percent_30,find_30_perc)) #map has to be type casted into suitable type otherwise only address for map is returned \n",
    "res_30"
   ]
  },
  {
   "cell_type": "markdown",
   "id": "c8614768",
   "metadata": {},
   "source": [
    "# lambda expression  with list"
   ]
  },
  {
   "cell_type": "code",
   "execution_count": 41,
   "id": "00696afa",
   "metadata": {},
   "outputs": [
    {
     "data": {
      "text/plain": [
       "[20.0, 30.0, 14.0, 56.0, 78.0]"
      ]
     },
     "execution_count": 41,
     "metadata": {},
     "output_type": "execute_result"
    }
   ],
   "source": [
    "# using map without a funtion \n",
    "# using lambda exrepsion instead of function\n",
    "t = lambda num: (num*100)/30 # lambda expression to find original value of 30 percent result \n",
    "t(27)\n",
    "list(map(t,res_30)) # using map with lamda expression and list of val lamda expression can written inside the map function aswell \n",
    "\n"
   ]
  },
  {
   "cell_type": "markdown",
   "id": "73dbd5e6",
   "metadata": {},
   "source": [
    "# map() + lambda expression + list "
   ]
  },
  {
   "cell_type": "code",
   "execution_count": 42,
   "id": "91848992",
   "metadata": {},
   "outputs": [
    {
     "name": "stdout",
     "output_type": "stream",
     "text": [
      "[4, 9, 16, 25]\n"
     ]
    },
    {
     "data": {
      "text/plain": [
       "[9, 18, 21, 24, 27, 30]"
      ]
     },
     "execution_count": 42,
     "metadata": {},
     "output_type": "execute_result"
    }
   ],
   "source": [
    "# lamda and map combination to square a list of number \n",
    "sq_list = list(map(lambda num:num**2,[2,3,4,5]))\n",
    "print(sq_list)\n",
    "\n",
    "# lambda expression + map + list example \n",
    "\n",
    "seq_n = [3,6,7,8,9,10]\n",
    "list(map(lambda num:num*3,seq_n))\n"
   ]
  },
  {
   "cell_type": "markdown",
   "id": "f2f84461",
   "metadata": {},
   "source": [
    "# filter()"
   ]
  },
  {
   "cell_type": "code",
   "execution_count": 43,
   "id": "daee041d",
   "metadata": {},
   "outputs": [
    {
     "name": "stdout",
     "output_type": "stream",
     "text": [
      "[2, 3, 4, 3]\n",
      "[2, 4, 14, 66, 22]\n"
     ]
    }
   ],
   "source": [
    "# filter() used to filter values from a sequence instead of passing it individual to a fuction or a using a for loop . filter function processes the sequence at once \n",
    "\n",
    "seq_f = [2,3,4,14,66,22,37,3,67,83]\n",
    "print(list(filter(lambda num:num<10,seq_f))) # filter and lambda combination to return numbers lesser than 10\n",
    "\n",
    "print(list(filter(lambda num:num%2==0,seq_f))) # filter and lambda to return only even values form a sequnce\n",
    "\n",
    "\n"
   ]
  },
  {
   "cell_type": "markdown",
   "id": "901ef24a",
   "metadata": {},
   "source": [
    "# Trick to find  Methods for  diffrent objects using obj.+\"Tab\""
   ]
  },
  {
   "cell_type": "code",
   "execution_count": 44,
   "id": "10ffbdf9",
   "metadata": {},
   "outputs": [
    {
     "data": {
      "text/plain": [
       "{}"
      ]
     },
     "execution_count": 44,
     "metadata": {},
     "output_type": "execute_result"
    }
   ],
   "source": [
    "# jupyter notebook trick to view methods for diffrent objects\n",
    "#write the name of the object plus a dot at the end and Press TAB to get list of all the Methods applicable on that object\n",
    "# Example name_obj. + Tab\n",
    "\n",
    "name_obj = \"PwnYoda\"\n",
    "name_obj = name_obj.casefold() \n",
    "dict_x = {'a':0,'b':0}\n",
    "dict_x.clear()\n",
    "dict_x\n",
    "\n"
   ]
  },
  {
   "cell_type": "markdown",
   "id": "eb871954",
   "metadata": {},
   "source": [
    "# string methods "
   ]
  },
  {
   "cell_type": "code",
   "execution_count": 52,
   "id": "89d1cc8e",
   "metadata": {},
   "outputs": [
    {
     "name": "stdout",
     "output_type": "stream",
     "text": [
      "hello fat man i like bat man men i like can can i buy ham man tim tam tim tam ham \n",
      "HELLO FAT MAN I LIKE BAT MAN MEN I LIKE CAN CAN I BUY HAM MAN TIM TAM TIM TAM HAM \n",
      "hello fat man i like bat man men i like can can i buy ham man tim tam tim tam ham \n"
     ]
    },
    {
     "data": {
      "text/plain": [
       "['hello fat ',\n",
       " ' i like bat ',\n",
       " ' men i like can can i buy ham ',\n",
       " ' tim tam tim tam ham ']"
      ]
     },
     "execution_count": 52,
     "metadata": {},
     "output_type": "execute_result"
    }
   ],
   "source": [
    "some_gib = \"hello fat man i like bat man men i like can can i buy ham man tim tam tim tam ham \"\n",
    "\n",
    "# lower case the string\n",
    "print(some_gib.lower()) \n",
    "\n",
    "# upper case the string\n",
    "print(some_gib.upper()) \n",
    "\n",
    "# to save changes \n",
    "some_gib = some_gib.lower()\n",
    "print(some_gib)\n",
    "\n",
    "# split() split string into a list or breaks up a string in word by word list \n",
    "some_gib.split()\n",
    "\n",
    "# splitting at a particular character \n",
    "\n",
    "some_gib.split('man')\n",
    "\n",
    "\n",
    "\n",
    "\n"
   ]
  },
  {
   "cell_type": "markdown",
   "id": "aab150cc",
   "metadata": {},
   "source": [
    "# dictionary methods"
   ]
  },
  {
   "cell_type": "code",
   "execution_count": 46,
   "id": "56a1282e",
   "metadata": {},
   "outputs": [
    {
     "data": {
      "text/plain": [
       "dict_values(['Pwn', 'Yoda'])"
      ]
     },
     "execution_count": 46,
     "metadata": {},
     "output_type": "execute_result"
    }
   ],
   "source": [
    "dict_x = {'k1':\"Pwn\",'k2':'Yoda'}\n",
    "# return all the keys in a dictionary\n",
    "res_d = dict_x.keys()\n",
    "li_t = [i for i in res_d] \n",
    "li_t\n",
    "\n",
    "# return all the item in the dictionary\n",
    "dict_x.items()\n",
    "\n",
    "# return values from the dictionary \n",
    "dict_x.values()\n",
    "\n",
    "\n",
    "\n"
   ]
  },
  {
   "cell_type": "markdown",
   "id": "14f9f77a",
   "metadata": {},
   "source": [
    "# list methods"
   ]
  },
  {
   "cell_type": "code",
   "execution_count": 55,
   "id": "9c6ff835",
   "metadata": {},
   "outputs": [
    {
     "name": "stdout",
     "output_type": "stream",
     "text": [
      "[2, 3, 66, 22]\n",
      "[2, 3, 66]\n",
      "66\n",
      "66\n"
     ]
    }
   ],
   "source": [
    "li = seq_f\n",
    "print(li)\n",
    "# pop() removes the last item from the list and returns it \n",
    "# item  can be stored in variable \n",
    "# change is permanent \n",
    "\n",
    "li.pop()\n",
    "print(li)\n",
    "# pop() for a particular index \n",
    "\n",
    "x = li.pop(2) # will pop 4\n",
    "print(x)\n",
    "\n",
    "# to insert a element into a list \n",
    "\n",
    "li.append(x)\n",
    "\n"
   ]
  },
  {
   "cell_type": "markdown",
   "id": "66d5bf33",
   "metadata": {},
   "source": [
    "# creating a copy of list "
   ]
  },
  {
   "cell_type": "code",
   "execution_count": 61,
   "id": "b7271d4f",
   "metadata": {},
   "outputs": [
    {
     "data": {
      "text/plain": [
       "[2, 3, 66]"
      ]
     },
     "execution_count": 61,
     "metadata": {},
     "output_type": "execute_result"
    }
   ],
   "source": [
    "# copy() method for list \n",
    "t_li = li.copy() # a copy of a list the new list is indpendent of the original any change in the new one does not chage original\n",
    "t_li.pop()\n"
   ]
  },
  {
   "cell_type": "markdown",
   "id": "cd79d2a3",
   "metadata": {},
   "source": [
    "# in operator "
   ]
  },
  {
   "cell_type": "code",
   "execution_count": 3,
   "id": "5cfb592b",
   "metadata": {},
   "outputs": [
    {
     "data": {
      "text/plain": [
       "True"
      ]
     },
     "execution_count": 3,
     "metadata": {},
     "output_type": "execute_result"
    }
   ],
   "source": [
    "name = 'crazyhazy'\n",
    "'a' in name"
   ]
  },
  {
   "cell_type": "markdown",
   "id": "4a59363f",
   "metadata": {},
   "source": [
    "# tuple unpacking "
   ]
  },
  {
   "cell_type": "code",
   "execution_count": 7,
   "id": "260506f2",
   "metadata": {},
   "outputs": [
    {
     "name": "stdout",
     "output_type": "stream",
     "text": [
      "4\n",
      "12\n",
      "(2, 4)\n",
      "(6, 8)\n",
      "(10, 12)\n",
      "2\n",
      "4\n",
      "6\n",
      "8\n",
      "10\n",
      "12\n"
     ]
    }
   ],
   "source": [
    "# tuple in list \n",
    "tup = [(2,4),(6,8),(10,12)]\n",
    "\n",
    "# simple accessing using index \n",
    "\n",
    "print(tup[0][1])\n",
    "print(tup[2][1])\n",
    "\n",
    "# accessing using for loop\n",
    "\n",
    "for item in tup:\n",
    "    print(item)\n",
    "    \n",
    "# unpacking tuple done using for loop \n",
    "\n",
    "for x,y in tup:\n",
    "    print(x)\n",
    "    print(y)"
   ]
  },
  {
   "cell_type": "code",
   "execution_count": null,
   "id": "ef20a2b2",
   "metadata": {},
   "outputs": [],
   "source": [
    "\n"
   ]
  }
 ],
 "metadata": {
  "kernelspec": {
   "display_name": "Python 3 (ipykernel)",
   "language": "python",
   "name": "python3"
  },
  "language_info": {
   "codemirror_mode": {
    "name": "ipython",
    "version": 3
   },
   "file_extension": ".py",
   "mimetype": "text/x-python",
   "name": "python",
   "nbconvert_exporter": "python",
   "pygments_lexer": "ipython3",
   "version": "3.7.13"
  }
 },
 "nbformat": 4,
 "nbformat_minor": 5
}
