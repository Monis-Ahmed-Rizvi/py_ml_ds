{
 "cells": [
  {
   "cell_type": "markdown",
   "id": "828dbb53",
   "metadata": {},
   "source": [
    "# loop"
   ]
  },
  {
   "cell_type": "markdown",
   "id": "97d371ac",
   "metadata": {},
   "source": [
    "## for loop"
   ]
  },
  {
   "cell_type": "code",
   "execution_count": 4,
   "id": "11426b13",
   "metadata": {},
   "outputs": [
    {
     "name": "stdout",
     "output_type": "stream",
     "text": [
      "0\n",
      "1\n",
      "2\n",
      "3\n",
      "4\n",
      "5\n",
      "6\n",
      "7\n",
      "32\n",
      "43\n",
      "41\n",
      "62\n",
      "34\n",
      "56\n",
      "78\n",
      "9\n"
     ]
    }
   ],
   "source": [
    "seq = [32,43,41,62,34,56,78,9]\n",
    "for item in range(len(seq)):\n",
    "    print(item)\n",
    "    \n",
    "for item in seq:\n",
    "    print(item)\n",
    "    \n",
    "\n",
    "    "
   ]
  },
  {
   "cell_type": "markdown",
   "id": "baa9406f",
   "metadata": {},
   "source": [
    "# while loop"
   ]
  },
  {
   "cell_type": "code",
   "execution_count": 30,
   "id": "338bd97a",
   "metadata": {},
   "outputs": [
    {
     "name": "stdout",
     "output_type": "stream",
     "text": [
      "[32, 43, 41, 62, 34, 56, 78, 9]\n",
      "32\n",
      "43\n",
      "41\n",
      "62\n",
      "34\n",
      "56\n",
      "78\n",
      "9\n",
      "########################\n",
      "########################\n",
      "i is: 0\n",
      "i is: 1\n",
      "i is: 2\n",
      "i is: 3\n",
      "i is: 4\n"
     ]
    }
   ],
   "source": [
    "print(seq)\n",
    "i = 0\n",
    "while i < len(seq):\n",
    "    print(seq[i])\n",
    "    i+=1\n",
    "    \n",
    "i = 0\n",
    "\n",
    "\n",
    "while i < 3*(len(seq)):\n",
    "    print(\"#\",end=\"\")\n",
    "    i+=1\n",
    "    \n",
    "print()\n",
    "i=0    \n",
    "    \n",
    "while i < 3*(len(seq)):\n",
    "    print(\"#\",end=\"\")\n",
    "    i+=1\n",
    "\n",
    "    \n",
    "print()\n",
    "\n",
    "i = 0\n",
    "while i < 5:\n",
    "    print(\"i is: {}\".format(i))\n",
    "    i+=1"
   ]
  },
  {
   "cell_type": "markdown",
   "id": "6d6bac4d",
   "metadata": {},
   "source": [
    "# range function"
   ]
  },
  {
   "cell_type": "code",
   "execution_count": 5,
   "id": "03136b16",
   "metadata": {},
   "outputs": [
    {
     "name": "stdout",
     "output_type": "stream",
     "text": [
      "0\n",
      "1\n",
      "2\n",
      "3\n",
      "4\n",
      "5\n",
      "6\n",
      "7\n",
      "8\n",
      "9\n"
     ]
    }
   ],
   "source": [
    "for i in range(0,10):\n",
    "    print(i)\n"
   ]
  },
  {
   "cell_type": "markdown",
   "id": "6cfa3107",
   "metadata": {},
   "source": [
    "# list comprehension"
   ]
  },
  {
   "cell_type": "code",
   "execution_count": 18,
   "id": "8d5a7b11",
   "metadata": {},
   "outputs": [
    {
     "name": "stdout",
     "output_type": "stream",
     "text": [
      "[2, 3, 4, 5, 6]\n",
      "2 3 4 5 6\n"
     ]
    }
   ],
   "source": [
    "# inserting elements in the list using simple for loop\n",
    "\n",
    "out = [] # output list\n",
    "x = [1,2,3,4,5]\n",
    "\n",
    "for num in x:\n",
    "    out.append(2**num)\n",
    "    \n",
    "# inserting elemets in the list using comprehension \n",
    "out_comp = [num+1 for num in x]\n",
    "print(out_comp)\n",
    "print(*(num for num in out_comp)) # printing using comprehension\n",
    "\n",
    "\n",
    "\n",
    "\n"
   ]
  },
  {
   "cell_type": "markdown",
   "id": "8d273186",
   "metadata": {},
   "source": [
    "# function"
   ]
  },
  {
   "cell_type": "code",
   "execution_count": 22,
   "id": "38a8d219",
   "metadata": {},
   "outputs": [
    {
     "name": "stdout",
     "output_type": "stream",
     "text": [
      "Hello world\n",
      "hello world Monis\n"
     ]
    }
   ],
   "source": [
    "# simple funtion without parameter\n",
    "\n",
    "def fun(): \n",
    "    print(\"Hello world\")\n",
    "    \n",
    "\n",
    "# funtion with parameter\n",
    "\n",
    "def fun_para(name):\n",
    "    print(\"hello world {}\".format(name))\n",
    "    \n",
    "# funtion with default parameter\n",
    "\n",
    "def fun_para_default(name=\"Monis\"):\n",
    "    print()\n",
    "    \n",
    "fun()\n",
    "fun_para(\"Monis\")\n"
   ]
  },
  {
   "cell_type": "code",
   "execution_count": 4,
   "id": "228b30f0",
   "metadata": {},
   "outputs": [
    {
     "data": {
      "text/plain": [
       "9"
      ]
     },
     "execution_count": 4,
     "metadata": {},
     "output_type": "execute_result"
    }
   ],
   "source": [
    "# funtion with return \n",
    "def square(num=2):\n",
    "    # docstring\n",
    "    \n",
    "    \"\"\"\n",
    "    THIS IS A FUNCTION TO SQUARE A NUMBER PASS A NUMBER THORUGH THE FUNTION \n",
    "    Example num()\n",
    "    \n",
    "    \n",
    "    \"\"\"\n",
    "    return num**2\n",
    "\n",
    "sq_res =  square(3) # trick to view the required parameter of signature of the fuction press shift + TAB \n",
    "sq_res"
   ]
  },
  {
   "cell_type": "code",
   "execution_count": 2,
   "id": "83b53517",
   "metadata": {},
   "outputs": [
    {
     "data": {
      "text/plain": [
       "9"
      ]
     },
     "execution_count": 2,
     "metadata": {},
     "output_type": "execute_result"
    }
   ],
   "source": []
  },
  {
   "cell_type": "code",
   "execution_count": null,
   "id": "02c51cf0",
   "metadata": {},
   "outputs": [],
   "source": []
  }
 ],
 "metadata": {
  "kernelspec": {
   "display_name": "Python 3 (ipykernel)",
   "language": "python",
   "name": "python3"
  },
  "language_info": {
   "codemirror_mode": {
    "name": "ipython",
    "version": 3
   },
   "file_extension": ".py",
   "mimetype": "text/x-python",
   "name": "python",
   "nbconvert_exporter": "python",
   "pygments_lexer": "ipython3",
   "version": "3.7.13"
  }
 },
 "nbformat": 4,
 "nbformat_minor": 5
}
