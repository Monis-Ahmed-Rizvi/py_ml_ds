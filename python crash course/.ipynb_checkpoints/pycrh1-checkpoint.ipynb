{
 "cells": [
  {
   "cell_type": "markdown",
   "id": "8ced7e24",
   "metadata": {},
   "source": [
    "# python crash course "
   ]
  },
  {
   "cell_type": "markdown",
   "id": "54a4ee14",
   "metadata": {},
   "source": [
    "### Integer floats and arithmetic"
   ]
  },
  {
   "cell_type": "code",
   "execution_count": 2,
   "id": "a0f2deab",
   "metadata": {},
   "outputs": [
    {
     "data": {
      "text/plain": [
       "1.0"
      ]
     },
     "execution_count": 2,
     "metadata": {},
     "output_type": "execute_result"
    }
   ],
   "source": [
    "1.0 #float"
   ]
  },
  {
   "cell_type": "code",
   "execution_count": 3,
   "id": "40c50bbd",
   "metadata": {},
   "outputs": [
    {
     "data": {
      "text/plain": [
       "2"
      ]
     },
     "execution_count": 3,
     "metadata": {},
     "output_type": "execute_result"
    }
   ],
   "source": [
    "1+1"
   ]
  },
  {
   "cell_type": "code",
   "execution_count": 4,
   "id": "0a9e7079",
   "metadata": {},
   "outputs": [
    {
     "name": "stdout",
     "output_type": "stream",
     "text": [
      "6\n",
      "1\n",
      "0.5\n",
      "16\n"
     ]
    }
   ],
   "source": [
    "print(2 * 3)\n",
    "print(2-1)\n",
    "print(1/2.0)\n",
    "print(2**4)"
   ]
  },
  {
   "cell_type": "markdown",
   "id": "565ce1a5",
   "metadata": {},
   "source": [
    "# order of operation"
   ]
  },
  {
   "cell_type": "code",
   "execution_count": 5,
   "id": "701bd47a",
   "metadata": {},
   "outputs": [
    {
     "name": "stdout",
     "output_type": "stream",
     "text": [
      "22\n",
      "50\n"
     ]
    }
   ],
   "source": [
    "print(2 + 3 * 5 + 5) #bidmas\n",
    "print((2+3) * (5+5))"
   ]
  },
  {
   "cell_type": "markdown",
   "id": "c8a330a4",
   "metadata": {},
   "source": [
    "# Modulo sign %"
   ]
  },
  {
   "cell_type": "code",
   "execution_count": 6,
   "id": "27c9943d",
   "metadata": {},
   "outputs": [
    {
     "data": {
      "text/plain": [
       "0"
      ]
     },
     "execution_count": 6,
     "metadata": {},
     "output_type": "execute_result"
    }
   ],
   "source": [
    "4%2"
   ]
  },
  {
   "cell_type": "code",
   "execution_count": 7,
   "id": "88ed039d",
   "metadata": {},
   "outputs": [
    {
     "data": {
      "text/plain": [
       "1"
      ]
     },
     "execution_count": 7,
     "metadata": {},
     "output_type": "execute_result"
    }
   ],
   "source": [
    "5%2"
   ]
  },
  {
   "cell_type": "code",
   "execution_count": 8,
   "id": "1d16544c",
   "metadata": {},
   "outputs": [
    {
     "data": {
      "text/plain": [
       "0"
      ]
     },
     "execution_count": 8,
     "metadata": {},
     "output_type": "execute_result"
    }
   ],
   "source": [
    "8%2"
   ]
  },
  {
   "cell_type": "markdown",
   "id": "95c1023c",
   "metadata": {},
   "source": [
    "# variables and strings"
   ]
  },
  {
   "cell_type": "code",
   "execution_count": 9,
   "id": "79ebc2a1",
   "metadata": {},
   "outputs": [
    {
     "name": "stdout",
     "output_type": "stream",
     "text": [
      "5\n",
      "10\n",
      "hello world isn't\n",
      "hello world iam pwnyoda my age is 25\n",
      "hello world my name is Pwnyoda and my age is 23\n",
      "l\n",
      "hell\n"
     ]
    }
   ],
   "source": [
    "x_num = 5 # Assiging \n",
    "print(x_num)\n",
    "x_num = x_num + x_num #re assingment\n",
    "print(x_num) \n",
    "\n",
    "x_str = \"hello World\" # string assingment\n",
    "dub_str = \"hello world isn't\" \n",
    "my_age = 25 # int\n",
    "name = \"pwnyoda\" \n",
    "print(dub_str)\n",
    "print(\"hello world iam {} my age is {}\".format(name,my_age)) # formatting a string and printing variable with strings \n",
    "print(\"hello world my name is {n} and my age is {a}\".format(n=\"Pwnyoda\",a=23))\n",
    "\n",
    "print(x_str[2])#indexing \n",
    "print(x_str[0:4]) # slicing the limit part is not included  [start:limit or end ]\n",
    "\n"
   ]
  },
  {
   "cell_type": "code",
   "execution_count": 11,
   "id": "78f98a2f",
   "metadata": {},
   "outputs": [
    {
     "name": "stdout",
     "output_type": "stream",
     "text": [
      " worl\n"
     ]
    }
   ],
   "source": [
    "print(dub_str[5:10])"
   ]
  },
  {
   "cell_type": "markdown",
   "id": "d50d1923",
   "metadata": {},
   "source": [
    "# list "
   ]
  },
  {
   "cell_type": "code",
   "execution_count": 30,
   "id": "d07ab997",
   "metadata": {},
   "outputs": [
    {
     "name": "stdout",
     "output_type": "stream",
     "text": [
      "[10, 20, 30, ['a', 'b', 'c', ['hello', 'world']], 50, 60]\n",
      "[10, 20, 'M', ['a', 'b', 'c', ['hello', 'world']], 50, 60]\n",
      "hello\n"
     ]
    }
   ],
   "source": [
    "x_list = [10,20,30,['a','b','c',[\"hello\",\"world\"]],50] # creating list\n",
    "x_list.append(60)         # appending to list\n",
    "print(x_list)             # outputing list\n",
    "x_list[1:4]               # slice\n",
    "x_list[2] = 'M'           #reasingment\n",
    "print(x_list)             # outputing \n",
    "print(x_list[3][3][0])\n",
    "\n"
   ]
  },
  {
   "cell_type": "markdown",
   "id": "54146f07",
   "metadata": {},
   "source": [
    "# dictionaries"
   ]
  },
  {
   "cell_type": "code",
   "execution_count": 22,
   "id": "fb37cc2d",
   "metadata": {},
   "outputs": [
    {
     "name": "stdout",
     "output_type": "stream",
     "text": [
      "1\n",
      "k_val1\n"
     ]
    },
    {
     "data": {
      "text/plain": [
       "['k_val1', 'k_val2']"
      ]
     },
     "execution_count": 22,
     "metadata": {},
     "output_type": "execute_result"
    }
   ],
   "source": [
    "x_dict = {'key1':'value'} # defining dictionary \n",
    "x_dict['key1'] = \"val1\" # reassinging value of a particular key\n",
    "x_dict['key2'] = 34 # adding new key value in the dictionary \n",
    "x_dict['key3'] = [1,2,3,4] # list as value of the key\n",
    "print(x_dict['key3'][0]) # accessing list value-pair and accessing a particular element from it   \n",
    "x_dict['key4'] = {'k1':['k_val1','k_val2'],'m1':['m_val1','m_val2']} # nested dictionary with list key value pair \n",
    "print(x_dict['key4']['k1'][0])\n",
    "x_dict_to_list = x_dict['key4']['k1'] # copying the list from the dictionary \n",
    "x_dict\n",
    "x_dict_to_list"
   ]
  },
  {
   "cell_type": "markdown",
   "id": "f94e20a0",
   "metadata": {},
   "source": [
    "# boolean"
   ]
  },
  {
   "cell_type": "code",
   "execution_count": 18,
   "id": "630eeb14",
   "metadata": {},
   "outputs": [
    {
     "data": {
      "text/plain": [
       "True"
      ]
     },
     "execution_count": 18,
     "metadata": {},
     "output_type": "execute_result"
    }
   ],
   "source": [
    "True"
   ]
  },
  {
   "cell_type": "code",
   "execution_count": 19,
   "id": "ddf5ab7c",
   "metadata": {},
   "outputs": [
    {
     "data": {
      "text/plain": [
       "1"
      ]
     },
     "execution_count": 19,
     "metadata": {},
     "output_type": "execute_result"
    }
   ],
   "source": [
    "1"
   ]
  },
  {
   "cell_type": "code",
   "execution_count": 20,
   "id": "50d056a8",
   "metadata": {},
   "outputs": [
    {
     "data": {
      "text/plain": [
       "False"
      ]
     },
     "execution_count": 20,
     "metadata": {},
     "output_type": "execute_result"
    }
   ],
   "source": [
    "False"
   ]
  },
  {
   "cell_type": "code",
   "execution_count": 21,
   "id": "82ca509b",
   "metadata": {},
   "outputs": [
    {
     "data": {
      "text/plain": [
       "False"
      ]
     },
     "execution_count": 21,
     "metadata": {},
     "output_type": "execute_result"
    }
   ],
   "source": [
    "1==0"
   ]
  },
  {
   "cell_type": "markdown",
   "id": "cdbcb6ce",
   "metadata": {},
   "source": [
    "# Tuple"
   ]
  },
  {
   "cell_type": "code",
   "execution_count": 45,
   "id": "cf4194a9",
   "metadata": {},
   "outputs": [
    {
     "name": "stdout",
     "output_type": "stream",
     "text": [
      "<class 'list'>\n"
     ]
    },
    {
     "data": {
      "text/plain": [
       "tuple"
      ]
     },
     "execution_count": 45,
     "metadata": {},
     "output_type": "execute_result"
    }
   ],
   "source": [
    "x_tup1 = (1,2,3,4,5) # creating tuple \n",
    "x_tup1[2] # accessing tuple \n",
    "# x_tup[1] = 99  not allowed tuples are immutable \n",
    "x_tup2 = (344,343,231,142)\n",
    "x_tup1 = x_tup1 + x_tup2 # no new element can be added directly to a tuple on;y concatanation is possible \n",
    "x_tup1 = list(x_tup1) # converting a tuple to a list and inserting a element into it \n",
    "x_tup1.append(20) # inserting a new item \n",
    "print(type(x_tup1)) \n",
    "x_tup1 = tuple(x_tup1) # converting list back to tuple \n",
    "type(x_tup1)"
   ]
  },
  {
   "cell_type": "markdown",
   "id": "cff90ef5",
   "metadata": {},
   "source": [
    "# set "
   ]
  },
  {
   "cell_type": "code",
   "execution_count": 54,
   "id": "788bcdcc",
   "metadata": {},
   "outputs": [
    {
     "name": "stdout",
     "output_type": "stream",
     "text": [
      "{1, 2, 3, 4, 5, 43, 54}\n",
      "{1, 2, 3, 4, 5, 43, 50, 54}\n"
     ]
    }
   ],
   "source": [
    "x_set = {1,2,3,43,5,54,5,4,3,5,4,3,2} # no duplicates \n",
    "print(x_set)\n",
    "# x_set[3] can not access particular item from a set \n",
    "x_set.add(50)\n",
    "print(x_set)\n"
   ]
  },
  {
   "cell_type": "markdown",
   "id": "d483c607",
   "metadata": {},
   "source": [
    "# comparison operator + logical operator"
   ]
  },
  {
   "cell_type": "code",
   "execution_count": 8,
   "id": "389a278e",
   "metadata": {},
   "outputs": [
    {
     "name": "stdout",
     "output_type": "stream",
     "text": [
      "False\n",
      "True\n",
      "True\n",
      "False\n",
      "True\n",
      "False\n",
      "True\n"
     ]
    }
   ],
   "source": [
    "print(1 > 2) # greater than operator\n",
    "print(1 < 2) # lesser than operator\n",
    "print(1==1)  # equal to operator \n",
    "print(1!=1)\n",
    "print(1>2 or 1<2) # comparison operator with or (if one of the comparsion is correct the answer is true)\n",
    "print(1>2 or 2<1) # both flase condition\n",
    "print(1<2 and 2>1) # comparsion operator with and (both the conditions have to be true for it to be true other wise false )\n"
   ]
  },
  {
   "cell_type": "markdown",
   "id": "0ca67aa0",
   "metadata": {},
   "source": [
    " # if else / elif"
   ]
  },
  {
   "cell_type": "code",
   "execution_count": 12,
   "id": "758e000b",
   "metadata": {},
   "outputs": [
    {
     "name": "stdout",
     "output_type": "stream",
     "text": [
      "enter a number6000\n",
      "More\n",
      "m\n"
     ]
    }
   ],
   "source": [
    "a_int = int(input(\"enter a number\"))\n",
    "\n",
    "if a_int < 100:\n",
    "    print(\"less\")\n",
    "else:\n",
    "    print(\"More\")\n",
    "\n",
    "\n",
    "x_char = 'a'\n",
    "\n",
    "choice = 'm'\n",
    "\n",
    "if choice == 'a':\n",
    "    print(\"a\")\n",
    "elif choice == 'b':\n",
    "    print(\"b\")\n",
    "elif choice == 'm':\n",
    "    print(\"m\")\n"
   ]
  },
  {
   "cell_type": "code",
   "execution_count": null,
   "id": "15606919",
   "metadata": {},
   "outputs": [],
   "source": []
  }
 ],
 "metadata": {
  "kernelspec": {
   "display_name": "Python 3 (ipykernel)",
   "language": "python",
   "name": "python3"
  },
  "language_info": {
   "codemirror_mode": {
    "name": "ipython",
    "version": 3
   },
   "file_extension": ".py",
   "mimetype": "text/x-python",
   "name": "python",
   "nbconvert_exporter": "python",
   "pygments_lexer": "ipython3",
   "version": "3.7.13"
  }
 },
 "nbformat": 4,
 "nbformat_minor": 5
}
