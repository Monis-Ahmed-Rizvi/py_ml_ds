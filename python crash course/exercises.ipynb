{
 "cells": [
  {
   "cell_type": "markdown",
   "id": "c49598d5",
   "metadata": {},
   "source": [
    "# Exercises for python crash course"
   ]
  },
  {
   "cell_type": "code",
   "execution_count": 1,
   "id": "cc0d71cf",
   "metadata": {},
   "outputs": [
    {
     "data": {
      "text/plain": [
       "2401"
      ]
     },
     "execution_count": 1,
     "metadata": {},
     "output_type": "execute_result"
    }
   ],
   "source": [
    "# ** What is 7 to the power of 4?**\n",
    "\n",
    "7**4"
   ]
  },
  {
   "cell_type": "code",
   "execution_count": 5,
   "id": "9c6fb2d9",
   "metadata": {},
   "outputs": [
    {
     "data": {
      "text/plain": [
       "['Hi', 'there', 'Sam!']"
      ]
     },
     "execution_count": 5,
     "metadata": {},
     "output_type": "execute_result"
    }
   ],
   "source": [
    "# split the string \n",
    "\n",
    "s = \"Hi there Sam!\"\n",
    "\n",
    "s_list = s.split()\n",
    "s_list"
   ]
  },
  {
   "cell_type": "code",
   "execution_count": 6,
   "id": "33e25948",
   "metadata": {},
   "outputs": [
    {
     "name": "stdout",
     "output_type": "stream",
     "text": [
      "the diameter of Earth is 12742\n"
     ]
    }
   ],
   "source": [
    "\"\"\"\n",
    "\n",
    "** Given the variables:**\n",
    "\n",
    "planet = \"Earth\"\n",
    "diameter = 12742\n",
    "\n",
    "** Use .format() to print the following string: **\n",
    "\n",
    "The diameter of Earth is 12742 kilometers.\n",
    "\n",
    "\n",
    "\"\"\"\n",
    "\n",
    "planet = \"Earth\"\n",
    "diameter = 12742\n",
    "\n",
    "print(\"the diameter of {} is {}\".format(planet,diameter))\n",
    "\n",
    "\n",
    "\n"
   ]
  },
  {
   "cell_type": "code",
   "execution_count": 21,
   "id": "10fcb02e",
   "metadata": {},
   "outputs": [
    {
     "data": {
      "text/plain": [
       "['hello']"
      ]
     },
     "execution_count": 21,
     "metadata": {},
     "output_type": "execute_result"
    }
   ],
   "source": [
    "# grabbing a element from a nested list \n",
    "\n",
    "lst = [1,2,[3,4],[5,[100,200,['hello']],23,11],1,7]\n",
    "\n",
    "lst[3][1][2]\n",
    "\n"
   ]
  },
  {
   "cell_type": "code",
   "execution_count": 37,
   "id": "c4387ac3",
   "metadata": {},
   "outputs": [
    {
     "data": {
      "text/plain": [
       "'hello'"
      ]
     },
     "execution_count": 37,
     "metadata": {},
     "output_type": "execute_result"
    }
   ],
   "source": [
    "# accessing items from nested dict\n",
    "d = {'k1':[1,2,3,{'tricky':['oh','man','inception',{'target':[1,2,3,'hello']}]}]}\n",
    "d['k1'][3]['tricky'][3]['target'][3]"
   ]
  },
  {
   "cell_type": "markdown",
   "id": "533766f2",
   "metadata": {},
   "source": [
    "** What is the main difference between a tuple and a list? **"
   ]
  },
  {
   "cell_type": "markdown",
   "id": "2e91f477",
   "metadata": {},
   "source": [
    "## list is mutable           (can be changed )\n",
    "## tuple is  immutable  (can not be changed )"
   ]
  },
  {
   "cell_type": "markdown",
   "id": "6c61ebfe",
   "metadata": {},
   "source": [
    "# ** Create a function that grabs the email website domain from a string in the form: **"
   ]
  },
  {
   "cell_type": "code",
   "execution_count": 48,
   "id": "8428c551",
   "metadata": {},
   "outputs": [
    {
     "name": "stdout",
     "output_type": "stream",
     "text": [
      "filemile.com\n"
     ]
    }
   ],
   "source": [
    "def domainsnatch(mail):\n",
    "    li = mail.split('@')\n",
    "    return li.pop()\n",
    "    \n",
    "    \n",
    "ex = \"munis@filemile.com\"\n",
    "ds = domainsnatch(ex)\n",
    "print(ds)"
   ]
  },
  {
   "cell_type": "markdown",
   "id": "475b93be",
   "metadata": {},
   "source": [
    "## ** Create a basic function that returns True if the word 'dog' is contained in the input string. Don't worry about edge cases like a punctuation being attached to the word dog, but do account for capitalization. **\n"
   ]
  },
  {
   "cell_type": "code",
   "execution_count": 57,
   "id": "7bd1fe00",
   "metadata": {},
   "outputs": [
    {
     "data": {
      "text/plain": [
       "True"
      ]
     },
     "execution_count": 57,
     "metadata": {},
     "output_type": "execute_result"
    }
   ],
   "source": [
    "def finddog(sam_str):\n",
    "    sam_str = sam_str.lower()\n",
    "    return \"dog\" in sam_str\n",
    "\n",
    "finddog(\"helDoglspan\")"
   ]
  },
  {
   "cell_type": "markdown",
   "id": "1438db48",
   "metadata": {},
   "source": [
    "## ** Create a function that counts the number of times the word \"dog\" occurs in a string. Again ignore edge cases. **"
   ]
  },
  {
   "cell_type": "code",
   "execution_count": 68,
   "id": "e7342f64",
   "metadata": {},
   "outputs": [
    {
     "name": "stdout",
     "output_type": "stream",
     "text": [
      "2\n",
      "2\n"
     ]
    },
    {
     "data": {
      "text/plain": [
       "False"
      ]
     },
     "execution_count": 68,
     "metadata": {},
     "output_type": "execute_result"
    }
   ],
   "source": [
    "# done using lambda funtion\n",
    "\n",
    "str_seq = 'This dog runs faster than the other dog dude!'\n",
    "str_seq = str_seq.split()\n",
    "print(len(list(filter(lambda str:str=='dog',str_seq))))\n",
    "\n",
    "# using normal funtion \n",
    "\n",
    "def dog_count(str_seq):\n",
    "    dog_counter = 0\n",
    "    for i in str_seq:\n",
    "        if i == \"dog\":\n",
    "            dog_counter+=1\n",
    "    \n",
    "    return dog_counter \n",
    "\n",
    "\n",
    "print(dog_count(str_seq))\n",
    "gib = \"hduihsiduhiufuojie\"\n",
    "gib.startswith('s')"
   ]
  },
  {
   "cell_type": "markdown",
   "id": "a536251d",
   "metadata": {},
   "source": [
    "### ** Use lambda expressions and the filter() function to filter out words from a list that don't start with the letter 's'. For example:**"
   ]
  },
  {
   "cell_type": "code",
   "execution_count": 71,
   "id": "b4e04f50",
   "metadata": {},
   "outputs": [
    {
     "name": "stdout",
     "output_type": "stream",
     "text": [
      "['soup', 'salad']\n"
     ]
    }
   ],
   "source": [
    "seq = ['soup','dog','salad','cat','great']\n",
    "res = list(filter(lambda str:str.startswith('s'),seq))\n",
    "print(res)"
   ]
  },
  {
   "cell_type": "code",
   "execution_count": 94,
   "id": "47b7f2f5",
   "metadata": {},
   "outputs": [
    {
     "data": {
      "text/plain": [
       "'No ticket'"
      ]
     },
     "execution_count": 94,
     "metadata": {},
     "output_type": "execute_result"
    }
   ],
   "source": [
    "speed_1 = 65\n",
    "speed_2 = 85\n",
    "speed_3 = 55\n",
    "\n",
    "birth_day_1 = False\n",
    "birth_day_2 = True\n",
    "\n",
    "def caught_speed(speed,birth):\n",
    "    if birth == True:\n",
    "        speed = speed - 5\n",
    "    if speed <= 60 :\n",
    "        return \"No ticket\"\n",
    "    elif speed >= 61 and speed <=80:\n",
    "        return \"Small Ticket\"\n",
    "    elif speed >= 81:\n",
    "        return \"Big ticket\"\n",
    "    \n",
    "    \n",
    "    \n",
    "    \n",
    "caught_speed(speed_1,birth_day_2)\n"
   ]
  },
  {
   "cell_type": "code",
   "execution_count": null,
   "id": "98e217f0",
   "metadata": {},
   "outputs": [],
   "source": []
  },
  {
   "cell_type": "code",
   "execution_count": null,
   "id": "f5a7ec96",
   "metadata": {},
   "outputs": [],
   "source": []
  }
 ],
 "metadata": {
  "kernelspec": {
   "display_name": "Python 3 (ipykernel)",
   "language": "python",
   "name": "python3"
  },
  "language_info": {
   "codemirror_mode": {
    "name": "ipython",
    "version": 3
   },
   "file_extension": ".py",
   "mimetype": "text/x-python",
   "name": "python",
   "nbconvert_exporter": "python",
   "pygments_lexer": "ipython3",
   "version": "3.7.13"
  }
 },
 "nbformat": 4,
 "nbformat_minor": 5
}
