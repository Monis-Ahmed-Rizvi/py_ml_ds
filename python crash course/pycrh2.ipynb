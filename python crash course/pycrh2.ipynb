{
 "cells": [
  {
   "cell_type": "markdown",
   "id": "828dbb53",
   "metadata": {},
   "source": [
    "# loop"
   ]
  },
  {
   "cell_type": "markdown",
   "id": "97d371ac",
   "metadata": {},
   "source": [
    "## for loop"
   ]
  },
  {
   "cell_type": "code",
   "execution_count": 4,
   "id": "11426b13",
   "metadata": {},
   "outputs": [
    {
     "name": "stdout",
     "output_type": "stream",
     "text": [
      "0\n",
      "1\n",
      "2\n",
      "3\n",
      "4\n",
      "5\n",
      "6\n",
      "7\n",
      "32\n",
      "43\n",
      "41\n",
      "62\n",
      "34\n",
      "56\n",
      "78\n",
      "9\n"
     ]
    }
   ],
   "source": [
    "seq = [32,43,41,62,34,56,78,9]\n",
    "for item in range(len(seq)):\n",
    "    print(item)\n",
    "    \n",
    "for item in seq:\n",
    "    print(item)\n",
    "    \n",
    "\n",
    "    "
   ]
  },
  {
   "cell_type": "markdown",
   "id": "baa9406f",
   "metadata": {},
   "source": [
    "# while loop"
   ]
  },
  {
   "cell_type": "code",
   "execution_count": 30,
   "id": "338bd97a",
   "metadata": {},
   "outputs": [
    {
     "name": "stdout",
     "output_type": "stream",
     "text": [
      "[32, 43, 41, 62, 34, 56, 78, 9]\n",
      "32\n",
      "43\n",
      "41\n",
      "62\n",
      "34\n",
      "56\n",
      "78\n",
      "9\n",
      "########################\n",
      "########################\n",
      "i is: 0\n",
      "i is: 1\n",
      "i is: 2\n",
      "i is: 3\n",
      "i is: 4\n"
     ]
    }
   ],
   "source": [
    "print(seq)\n",
    "i = 0\n",
    "while i < len(seq):\n",
    "    print(seq[i])\n",
    "    i+=1\n",
    "    \n",
    "i = 0\n",
    "\n",
    "\n",
    "while i < 3*(len(seq)):\n",
    "    print(\"#\",end=\"\")\n",
    "    i+=1\n",
    "    \n",
    "print()\n",
    "i=0    \n",
    "    \n",
    "while i < 3*(len(seq)):\n",
    "    print(\"#\",end=\"\")\n",
    "    i+=1\n",
    "\n",
    "    \n",
    "print()\n",
    "\n",
    "i = 0\n",
    "while i < 5:\n",
    "    print(\"i is: {}\".format(i))\n",
    "    i+=1"
   ]
  },
  {
   "cell_type": "markdown",
   "id": "6d6bac4d",
   "metadata": {},
   "source": [
    "# range function"
   ]
  },
  {
   "cell_type": "code",
   "execution_count": 5,
   "id": "03136b16",
   "metadata": {},
   "outputs": [
    {
     "name": "stdout",
     "output_type": "stream",
     "text": [
      "0\n",
      "1\n",
      "2\n",
      "3\n",
      "4\n",
      "5\n",
      "6\n",
      "7\n",
      "8\n",
      "9\n"
     ]
    }
   ],
   "source": [
    "for i in range(0,10):\n",
    "    print(i)\n"
   ]
  },
  {
   "cell_type": "code",
   "execution_count": null,
   "id": "4b3f7acf",
   "metadata": {},
   "outputs": [],
   "source": []
  }
 ],
 "metadata": {
  "kernelspec": {
   "display_name": "Python 3 (ipykernel)",
   "language": "python",
   "name": "python3"
  },
  "language_info": {
   "codemirror_mode": {
    "name": "ipython",
    "version": 3
   },
   "file_extension": ".py",
   "mimetype": "text/x-python",
   "name": "python",
   "nbconvert_exporter": "python",
   "pygments_lexer": "ipython3",
   "version": "3.7.13"
  }
 },
 "nbformat": 4,
 "nbformat_minor": 5
}
