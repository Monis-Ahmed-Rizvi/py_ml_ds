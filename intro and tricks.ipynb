{
 "cells": [
  {
   "cell_type": "code",
   "execution_count": 1,
   "id": "6cabf29a",
   "metadata": {},
   "outputs": [
    {
     "name": "stdout",
     "output_type": "stream",
     "text": [
      "Hello\n"
     ]
    }
   ],
   "source": [
    "print(\"Hello\")"
   ]
  },
  {
   "cell_type": "code",
   "execution_count": 2,
   "id": "5c1f9d9d",
   "metadata": {},
   "outputs": [
    {
     "data": {
      "text/plain": [
       "2"
      ]
     },
     "execution_count": 2,
     "metadata": {},
     "output_type": "execute_result"
    }
   ],
   "source": [
    "1+1"
   ]
  },
  {
   "cell_type": "code",
   "execution_count": 3,
   "id": "dd269a4a",
   "metadata": {},
   "outputs": [
    {
     "name": "stdout",
     "output_type": "stream",
     "text": [
      "2\n"
     ]
    }
   ],
   "source": [
    "print(1+1)"
   ]
  },
  {
   "cell_type": "code",
   "execution_count": 4,
   "id": "78137e08",
   "metadata": {},
   "outputs": [
    {
     "data": {
      "text/plain": [
       "'shift+ Enter'"
      ]
     },
     "execution_count": 4,
     "metadata": {},
     "output_type": "execute_result"
    }
   ],
   "source": [
    " 'shift+ Enter' #to run or go below"
   ]
  },
  {
   "cell_type": "code",
   "execution_count": null,
   "id": "8ee17fc6",
   "metadata": {},
   "outputs": [],
   "source": [
    "'Alt + Enter' # to insert a new cell "
   ]
  },
  {
   "cell_type": "markdown",
   "id": "535dba28",
   "metadata": {},
   "source": [
    "# for mark down 'Esc + M' "
   ]
  },
  {
   "cell_type": "code",
   "execution_count": 5,
   "id": "8f1aa050",
   "metadata": {},
   "outputs": [
    {
     "data": {
      "text/plain": [
       "'for code cell Esc + Y'"
      ]
     },
     "execution_count": 5,
     "metadata": {},
     "output_type": "execute_result"
    }
   ],
   "source": [
    "'for code cell Esc + Y'"
   ]
  },
  {
   "cell_type": "code",
   "execution_count": null,
   "id": "68cb23ea",
   "metadata": {},
   "outputs": [],
   "source": [
    "\n"
   ]
  }
 ],
 "metadata": {
  "kernelspec": {
   "display_name": "Python 3 (ipykernel)",
   "language": "python",
   "name": "python3"
  },
  "language_info": {
   "codemirror_mode": {
    "name": "ipython",
    "version": 3
   },
   "file_extension": ".py",
   "mimetype": "text/x-python",
   "name": "python",
   "nbconvert_exporter": "python",
   "pygments_lexer": "ipython3",
   "version": "3.7.13"
  }
 },
 "nbformat": 4,
 "nbformat_minor": 5
}
